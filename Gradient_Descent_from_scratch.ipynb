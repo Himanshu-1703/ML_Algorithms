{
  "nbformat": 4,
  "nbformat_minor": 0,
  "metadata": {
    "colab": {
      "provenance": [],
      "authorship_tag": "ABX9TyNAp7HVh1rz/0lyskjRR3LT",
      "include_colab_link": true
    },
    "kernelspec": {
      "name": "python3",
      "display_name": "Python 3"
    },
    "language_info": {
      "name": "python"
    },
    "widgets": {
      "application/vnd.jupyter.widget-state+json": {
        "5ab3c217af1b45588298f5aa6f70dc9f": {
          "model_module": "@jupyter-widgets/controls",
          "model_name": "VBoxModel",
          "model_module_version": "1.5.0",
          "state": {
            "_dom_classes": [
              "widget-interact"
            ],
            "_model_module": "@jupyter-widgets/controls",
            "_model_module_version": "1.5.0",
            "_model_name": "VBoxModel",
            "_view_count": null,
            "_view_module": "@jupyter-widgets/controls",
            "_view_module_version": "1.5.0",
            "_view_name": "VBoxView",
            "box_style": "",
            "children": [
              "IPY_MODEL_26e1bd0a8b794c30ae555264e9244831",
              "IPY_MODEL_99c6a68cb1044e8b8a23aafdcd865cc9"
            ],
            "layout": "IPY_MODEL_dbdfe73be53341e49af64953167ad461"
          }
        },
        "26e1bd0a8b794c30ae555264e9244831": {
          "model_module": "@jupyter-widgets/controls",
          "model_name": "PlayModel",
          "model_module_version": "1.5.0",
          "state": {
            "_dom_classes": [],
            "_model_module": "@jupyter-widgets/controls",
            "_model_module_version": "1.5.0",
            "_model_name": "PlayModel",
            "_playing": false,
            "_repeat": false,
            "_view_count": null,
            "_view_module": "@jupyter-widgets/controls",
            "_view_module_version": "1.5.0",
            "_view_name": "PlayView",
            "description": "epoch",
            "description_tooltip": null,
            "disabled": false,
            "interval": 100,
            "layout": "IPY_MODEL_6a293404a462415bbdc1d5e39b488909",
            "max": 199,
            "min": 0,
            "show_repeat": true,
            "step": 1,
            "style": "IPY_MODEL_e3ae2fc6aed7434c8db91874977e9886",
            "value": 199
          }
        },
        "99c6a68cb1044e8b8a23aafdcd865cc9": {
          "model_module": "@jupyter-widgets/output",
          "model_name": "OutputModel",
          "model_module_version": "1.0.0",
          "state": {
            "_dom_classes": [],
            "_model_module": "@jupyter-widgets/output",
            "_model_module_version": "1.0.0",
            "_model_name": "OutputModel",
            "_view_count": null,
            "_view_module": "@jupyter-widgets/output",
            "_view_module_version": "1.0.0",
            "_view_name": "OutputView",
            "layout": "IPY_MODEL_dd0460dd92cc4591ae60c97feacf9ef1",
            "msg_id": "",
            "outputs": [
              {
                "output_type": "display_data",
                "data": {
                  "text/plain": "<Figure size 432x288 with 1 Axes>",
                  "image/png": "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\n"
                },
                "metadata": {
                  "needs_background": "light"
                }
              }
            ]
          }
        },
        "dbdfe73be53341e49af64953167ad461": {
          "model_module": "@jupyter-widgets/base",
          "model_name": "LayoutModel",
          "model_module_version": "1.2.0",
          "state": {
            "_model_module": "@jupyter-widgets/base",
            "_model_module_version": "1.2.0",
            "_model_name": "LayoutModel",
            "_view_count": null,
            "_view_module": "@jupyter-widgets/base",
            "_view_module_version": "1.2.0",
            "_view_name": "LayoutView",
            "align_content": null,
            "align_items": null,
            "align_self": null,
            "border": null,
            "bottom": null,
            "display": null,
            "flex": null,
            "flex_flow": null,
            "grid_area": null,
            "grid_auto_columns": null,
            "grid_auto_flow": null,
            "grid_auto_rows": null,
            "grid_column": null,
            "grid_gap": null,
            "grid_row": null,
            "grid_template_areas": null,
            "grid_template_columns": null,
            "grid_template_rows": null,
            "height": null,
            "justify_content": null,
            "justify_items": null,
            "left": null,
            "margin": null,
            "max_height": null,
            "max_width": null,
            "min_height": null,
            "min_width": null,
            "object_fit": null,
            "object_position": null,
            "order": null,
            "overflow": null,
            "overflow_x": null,
            "overflow_y": null,
            "padding": null,
            "right": null,
            "top": null,
            "visibility": null,
            "width": null
          }
        },
        "6a293404a462415bbdc1d5e39b488909": {
          "model_module": "@jupyter-widgets/base",
          "model_name": "LayoutModel",
          "model_module_version": "1.2.0",
          "state": {
            "_model_module": "@jupyter-widgets/base",
            "_model_module_version": "1.2.0",
            "_model_name": "LayoutModel",
            "_view_count": null,
            "_view_module": "@jupyter-widgets/base",
            "_view_module_version": "1.2.0",
            "_view_name": "LayoutView",
            "align_content": null,
            "align_items": null,
            "align_self": null,
            "border": null,
            "bottom": null,
            "display": null,
            "flex": null,
            "flex_flow": null,
            "grid_area": null,
            "grid_auto_columns": null,
            "grid_auto_flow": null,
            "grid_auto_rows": null,
            "grid_column": null,
            "grid_gap": null,
            "grid_row": null,
            "grid_template_areas": null,
            "grid_template_columns": null,
            "grid_template_rows": null,
            "height": null,
            "justify_content": null,
            "justify_items": null,
            "left": null,
            "margin": null,
            "max_height": null,
            "max_width": null,
            "min_height": null,
            "min_width": null,
            "object_fit": null,
            "object_position": null,
            "order": null,
            "overflow": null,
            "overflow_x": null,
            "overflow_y": null,
            "padding": null,
            "right": null,
            "top": null,
            "visibility": null,
            "width": null
          }
        },
        "e3ae2fc6aed7434c8db91874977e9886": {
          "model_module": "@jupyter-widgets/controls",
          "model_name": "DescriptionStyleModel",
          "model_module_version": "1.5.0",
          "state": {
            "_model_module": "@jupyter-widgets/controls",
            "_model_module_version": "1.5.0",
            "_model_name": "DescriptionStyleModel",
            "_view_count": null,
            "_view_module": "@jupyter-widgets/base",
            "_view_module_version": "1.2.0",
            "_view_name": "StyleView",
            "description_width": ""
          }
        },
        "dd0460dd92cc4591ae60c97feacf9ef1": {
          "model_module": "@jupyter-widgets/base",
          "model_name": "LayoutModel",
          "model_module_version": "1.2.0",
          "state": {
            "_model_module": "@jupyter-widgets/base",
            "_model_module_version": "1.2.0",
            "_model_name": "LayoutModel",
            "_view_count": null,
            "_view_module": "@jupyter-widgets/base",
            "_view_module_version": "1.2.0",
            "_view_name": "LayoutView",
            "align_content": null,
            "align_items": null,
            "align_self": null,
            "border": null,
            "bottom": null,
            "display": null,
            "flex": null,
            "flex_flow": null,
            "grid_area": null,
            "grid_auto_columns": null,
            "grid_auto_flow": null,
            "grid_auto_rows": null,
            "grid_column": null,
            "grid_gap": null,
            "grid_row": null,
            "grid_template_areas": null,
            "grid_template_columns": null,
            "grid_template_rows": null,
            "height": null,
            "justify_content": null,
            "justify_items": null,
            "left": null,
            "margin": null,
            "max_height": null,
            "max_width": null,
            "min_height": null,
            "min_width": null,
            "object_fit": null,
            "object_position": null,
            "order": null,
            "overflow": null,
            "overflow_x": null,
            "overflow_y": null,
            "padding": null,
            "right": null,
            "top": null,
            "visibility": null,
            "width": null
          }
        }
      }
    }
  },
  "cells": [
    {
      "cell_type": "markdown",
      "metadata": {
        "id": "view-in-github",
        "colab_type": "text"
      },
      "source": [
        "<a href=\"https://colab.research.google.com/github/Himanshu-1703/ML_Algorithms/blob/main/Gradient_Descent_from_scratch.ipynb\" target=\"_parent\"><img src=\"https://colab.research.google.com/assets/colab-badge.svg\" alt=\"Open In Colab\"/></a>"
      ]
    },
    {
      "cell_type": "code",
      "execution_count": null,
      "metadata": {
        "id": "Jsw1MBl7TfdW"
      },
      "outputs": [],
      "source": [
        "import pandas as pd\n",
        "import numpy as np\n",
        "import matplotlib.pyplot as plt\n",
        "import seaborn as sns"
      ]
    },
    {
      "cell_type": "code",
      "source": [
        "from sklearn.datasets import make_regression"
      ],
      "metadata": {
        "id": "94N8EvH0TrjI"
      },
      "execution_count": null,
      "outputs": []
    },
    {
      "cell_type": "code",
      "source": [
        "X,y = make_regression(n_samples=50,n_features=1,n_informative=1,noise=40,random_state=46)"
      ],
      "metadata": {
        "id": "a5n3Zqr7Tv1G"
      },
      "execution_count": null,
      "outputs": []
    },
    {
      "cell_type": "code",
      "source": [
        "# plot the graph\n",
        "\n",
        "plt.scatter(X,y,color='red')\n",
        "plt.show()"
      ],
      "metadata": {
        "colab": {
          "base_uri": "https://localhost:8080/",
          "height": 265
        },
        "id": "dX85-fI2T7AF",
        "outputId": "d3496fd8-468a-401a-e7fc-f1bd45a5cdcc"
      },
      "execution_count": null,
      "outputs": [
        {
          "output_type": "display_data",
          "data": {
            "text/plain": [
              "<Figure size 432x288 with 1 Axes>"
            ],
            "image/png": "[encoded data removed]"
          },
          "metadata": {
            "needs_background": "light"
          }
        }
      ]
    },
    {
      "cell_type": "code",
      "source": [
        "from sklearn.linear_model import LinearRegression\n",
        "\n",
        "lr = LinearRegression()\n",
        "\n",
        "lr.fit(X,y)\n",
        "\n",
        "y_pred = lr.predict(X)"
      ],
      "metadata": {
        "id": "IUZUdqZXUBSW"
      },
      "execution_count": null,
      "outputs": []
    },
    {
      "cell_type": "code",
      "source": [
        "# plot the regression line on the graph\n",
        "\n",
        "\n",
        "plt.scatter(X,y,color='red')\n",
        "plt.plot(X,y_pred)\n",
        "plt.show()"
      ],
      "metadata": {
        "colab": {
          "base_uri": "https://localhost:8080/",
          "height": 265
        },
        "id": "epPpp19IUS21",
        "outputId": "6020cc2b-b666-46be-8bec-0ad8eeee299e"
      },
      "execution_count": null,
      "outputs": [
        {
          "output_type": "display_data",
          "data": {
            "text/plain": [
              "<Figure size 432x288 with 1 Axes>"
            ],
            "image/png": "[encoded data removed]"
          },
          "metadata": {
            "needs_background": "light"
          }
        }
      ]
    },
    {
      "cell_type": "code",
      "source": [
        "lr.intercept_,lr.coef_"
      ],
      "metadata": {
        "colab": {
          "base_uri": "https://localhost:8080/"
        },
        "id": "ZbGhIb2_UiR1",
        "outputId": "0f0760a0-0645-454f-ad21-0020a78555ef"
      },
      "execution_count": null,
      "outputs": [
        {
          "output_type": "execute_result",
          "data": {
            "text/plain": [
              "(-0.14419295949957434, array([33.52420089]))"
            ]
          },
          "metadata": {},
          "execution_count": 7
        }
      ]
    },
    {
      "cell_type": "code",
      "source": [
        "# Perform gradient descent\n",
        "\n",
        "m = lr.coef_[0]\n",
        "\n",
        "b = -100\n",
        "\n",
        "y_pred1 = (m * X) + b\n",
        "\n",
        "# plot the y_pred1\n",
        "\n",
        "plt.scatter(X,y,color='red')\n",
        "plt.plot(X,y_pred,label='linear regression')\n",
        "plt.plot(X,y_pred1,label='b = -100')\n",
        "plt.legend()\n",
        "plt.show()\n"
      ],
      "metadata": {
        "colab": {
          "base_uri": "https://localhost:8080/",
          "height": 265
        },
        "id": "iFiwHZNDUY9V",
        "outputId": "f3b9c6f1-7b60-48ba-8f1c-ac3f3e1accf1"
      },
      "execution_count": null,
      "outputs": [
        {
          "output_type": "display_data",
          "data": {
            "text/plain": [
              "<Figure size 432x288 with 1 Axes>"
            ],
            "image/png": "[encoded data removed]"
          },
          "metadata": {
            "needs_background": "light"
          }
        }
      ]
    },
    {
      "cell_type": "code",
      "source": [
        "b"
      ],
      "metadata": {
        "colab": {
          "base_uri": "https://localhost:8080/"
        },
        "id": "1zpefnMUV9dw",
        "outputId": "7405c628-3f31-4747-d93c-733b9ecce64b"
      },
      "execution_count": null,
      "outputs": [
        {
          "output_type": "execute_result",
          "data": {
            "text/plain": [
              "-100"
            ]
          },
          "metadata": {},
          "execution_count": 9
        }
      ]
    },
    {
      "cell_type": "code",
      "source": [
        "b_slope = -2 * np.sum(y-y_pred1)\n",
        "b_slope * 0.0001"
      ],
      "metadata": {
        "colab": {
          "base_uri": "https://localhost:8080/"
        },
        "id": "JVp9iLzfWEiu",
        "outputId": "4b090df6-cfd3-4033-dd30-b9e71db2eec7"
      },
      "execution_count": null,
      "outputs": [
        {
          "output_type": "execute_result",
          "data": {
            "text/plain": [
              "-49.92790352025022"
            ]
          },
          "metadata": {},
          "execution_count": 10
        }
      ]
    },
    {
      "cell_type": "code",
      "source": [
        "# update the value of b\n",
        "\n",
        "b_slope = -2 * np.sum(y-y_pred1)\n",
        "\n",
        "step_size = b_slope *  0.0001 \n",
        "\n",
        "b = b - step_size\n",
        "\n",
        "y_pred2 = (m * X) + b\n",
        "\n",
        "# plot the y_pred1\n",
        "\n",
        "plt.scatter(X,y,color='red')\n",
        "plt.plot(X,y_pred,label='linear regression')\n",
        "plt.plot(X,y_pred1,label='b = -100')\n",
        "plt.plot(X,y_pred2,label='iter 2')\n",
        "plt.legend()\n",
        "plt.show()"
      ],
      "metadata": {
        "colab": {
          "base_uri": "https://localhost:8080/",
          "height": 265
        },
        "id": "MKg8CwQsU2Hc",
        "outputId": "ed542895-bc07-46b3-94f8-220d66bfad71"
      },
      "execution_count": null,
      "outputs": [
        {
          "output_type": "display_data",
          "data": {
            "text/plain": [
              "<Figure size 432x288 with 1 Axes>"
            ],
            "image/png": "[encoded data removed]"
          },
          "metadata": {
            "needs_background": "light"
          }
        }
      ]
    },
    {
      "cell_type": "code",
      "source": [
        "b_slope * 0.0001"
      ],
      "metadata": {
        "colab": {
          "base_uri": "https://localhost:8080/"
        },
        "id": "lKudY3hVVdqq",
        "outputId": "82fd4bdb-f164-4d3f-8abd-4d5a8441b874"
      },
      "execution_count": null,
      "outputs": [
        {
          "output_type": "execute_result",
          "data": {
            "text/plain": [
              "-49.92790352025022"
            ]
          },
          "metadata": {},
          "execution_count": 12
        }
      ]
    },
    {
      "cell_type": "code",
      "source": [
        "# run this inside a loop\n",
        "\n",
        "def update_b(original_b,epochs):\n",
        "    b = original_b\n",
        "    m  = lr.coef_[0]\n",
        "    learning_rate = 0.0001\n",
        "    y_pred = (m * X) + b\n",
        "\n",
        "    plt.scatter(X,y,color='red')\n",
        "    plt.plot(X,y_pred,label='original')\n",
        "\n",
        "    for i in range(1,epochs+1):\n",
        "        print('The epoch number is',i)\n",
        "        b_slope = -2 * np.sum(y-y_pred)\n",
        "        print('the slope is ',b_slope)\n",
        "\n",
        "        step_size = b_slope * learning_rate\n",
        "\n",
        "        b = b - step_size\n",
        "        print('The new b is',b)\n",
        "        y_pred = (m * X) + b\n",
        "\n",
        "        # plot the y_pred1\n",
        "\n",
        "        \n",
        "        plt.plot(X,y_pred)\n",
        "        \n",
        "        plt.legend()\n",
        "\n",
        "    plt.show()\n",
        "\n",
        "    "
      ],
      "metadata": {
        "id": "0cReAWWcVpcL"
      },
      "execution_count": null,
      "outputs": []
    },
    {
      "cell_type": "code",
      "source": [
        "lr.intercept_"
      ],
      "metadata": {
        "colab": {
          "base_uri": "https://localhost:8080/"
        },
        "id": "R7LFxFowYilq",
        "outputId": "a6848aa9-1a3b-4eae-df6b-3e0224263a33"
      },
      "execution_count": null,
      "outputs": [
        {
          "output_type": "execute_result",
          "data": {
            "text/plain": [
              "-0.14419295949957434"
            ]
          },
          "metadata": {},
          "execution_count": 14
        }
      ]
    },
    {
      "cell_type": "code",
      "source": [
        "update_b(567,15)"
      ],
      "metadata": {
        "colab": {
          "base_uri": "https://localhost:8080/",
          "height": 1000
        },
        "id": "9Zlx4CTwYLxd",
        "outputId": "c4d1af89-9e3e-46e9-c9aa-acdbed84a9d0"
      },
      "execution_count": null,
      "outputs": [
        {
          "output_type": "stream",
          "name": "stdout",
          "text": [
            "The epoch number is 1\n",
            "the slope is  2835720.9647974977\n",
            "The new b is 283.4279035202502\n",
            "The epoch number is 2\n",
            "the slope is  1417860.4823987489\n",
            "The new b is 141.6418552803753\n",
            "The epoch number is 3\n",
            "the slope is  708930.2411993743\n",
            "The new b is 70.74883116043786\n",
            "The epoch number is 4\n",
            "the slope is  354465.12059968716\n",
            "The new b is 35.30231910046914\n",
            "The epoch number is 5\n",
            "the slope is  177232.5602998436\n",
            "The new b is 17.57906307048478\n",
            "The epoch number is 6\n",
            "the slope is  88616.28014992177\n",
            "The new b is 8.7174350554926\n",
            "The epoch number is 7\n",
            "the slope is  44308.14007496088\n",
            "The new b is 4.286621047996513\n",
            "The epoch number is 8\n",
            "the slope is  22154.070037480444\n",
            "The new b is 2.0712140442484683\n",
            "The epoch number is 9\n",
            "the slope is  11077.035018740222\n",
            "The new b is 0.9635105423744461\n",
            "The epoch number is 10\n",
            "the slope is  5538.517509370111\n",
            "The new b is 0.409658791437435\n",
            "The epoch number is 11\n",
            "the slope is  2769.2587546850555\n",
            "The new b is 0.13273291596892944\n",
            "The epoch number is 12\n",
            "the slope is  1384.6293773425277\n",
            "The new b is -0.005730021765323334\n",
            "The epoch number is 13\n",
            "the slope is  692.3146886712602\n",
            "The new b is -0.07496149063244936\n",
            "The epoch number is 14\n",
            "the slope is  346.15734433563193\n",
            "The new b is -0.10957722506601256\n",
            "The epoch number is 15\n",
            "the slope is  173.07867216781506\n",
            "The new b is -0.12688509228279407\n"
          ]
        },
        {
          "output_type": "display_data",
          "data": {
            "text/plain": [
              "<Figure size 432x288 with 1 Axes>"
            ],
            "image/png": "[encoded data removed]"
          },
          "metadata": {
            "needs_background": "light"
          }
        }
      ]
    },
    {
      "cell_type": "code",
      "source": [
        "# gradient descent class\n",
        "\n",
        "\n",
        "class GD_Regressor:\n",
        "    def __init__(self,lr,epochs,m,b):\n",
        "        self.lr = lr\n",
        "        self.epochs = epochs\n",
        "        self.m = m\n",
        "        self.b = b\n",
        "\n",
        "    def fit(self,X,y):\n",
        "        for i in range(self.epochs):\n",
        "            b_slope = -2 * np.sum(y-(self.m*X.ravel())-self.b)\n",
        "            step_size_b = b_slope * self.lr\n",
        "            \n",
        "            m_slope = -2 * np.sum((y-(self.m*X.ravel())-self.b) * X.ravel()) \n",
        "            step_size_m = m_slope * self.lr\n",
        "            \n",
        "            self.m = self.m  - step_size_m\n",
        "            self.b = self.b - step_size_b\n",
        "\n",
        "        print('The coef is',self.m)\n",
        "        print('The intercept is',self.b)\n"
      ],
      "metadata": {
        "id": "y-lBq5ZnYPS0"
      },
      "execution_count": null,
      "outputs": []
    },
    {
      "cell_type": "code",
      "source": [
        "class GD_Regressor:\n",
        "    def __init__(self,lr,epochs,m,b):\n",
        "        self.lr = lr\n",
        "        self.epochs = epochs\n",
        "        self.m = m\n",
        "        self.b = b\n",
        "\n",
        "    def fit(self,X,y):\n",
        "        all_m = []\n",
        "        all_b = []\n",
        "        all_m.append(self.m)\n",
        "        all_b.append(self.b)\n",
        "\n",
        "        for i in range(self.epochs):\n",
        "            b_slope = -2 * np.sum(y-(self.m*X.ravel())-self.b)\n",
        "            step_size_b = b_slope * self.lr\n",
        "            \n",
        "            m_slope = -2 * np.sum((y-(self.m*X.ravel())-self.b) * X.ravel()) \n",
        "            step_size_m = m_slope * self.lr\n",
        "            \n",
        "            self.m = self.m  - step_size_m\n",
        "            self.b = self.b - step_size_b\n",
        "\n",
        "            all_m.append(self.m)\n",
        "            all_b.append(self.b)\n",
        "        # print('The coef is',self.m)\n",
        "        # print('The intercept is',self.b)\n",
        "\n",
        "        return all_m,all_b"
      ],
      "metadata": {
        "id": "c9HZdyZMu7mb"
      },
      "execution_count": null,
      "outputs": []
    },
    {
      "cell_type": "code",
      "source": [
        "gd = GD_Regressor(0.0005,200,-150,-76)"
      ],
      "metadata": {
        "id": "n9AnFSnCc3Rc"
      },
      "execution_count": null,
      "outputs": []
    },
    {
      "cell_type": "code",
      "source": [
        "m,b = gd.fit(X,y)"
      ],
      "metadata": {
        "id": "z_CoaWufdA5C"
      },
      "execution_count": null,
      "outputs": []
    },
    {
      "cell_type": "code",
      "source": [
        "from matplotlib.animation import FuncAnimation"
      ],
      "metadata": {
        "id": "WfXgYiZ7zhG8"
      },
      "execution_count": null,
      "outputs": []
    },
    {
      "cell_type": "code",
      "source": [
        "import ipywidgets as widgets"
      ],
      "metadata": {
        "id": "tlQ_SHcDFX6g"
      },
      "execution_count": null,
      "outputs": []
    },
    {
      "cell_type": "code",
      "source": [
        "# plot the animation\n",
        "\n",
        "\n",
        "epochs = np.arange(0,200)\n",
        "\n",
        "m = np.array(m).ravel()\n",
        "b = np.array(b).ravel()\n",
        "\n",
        "def update_graph(epoch):\n",
        "    plt.scatter(X,y,c='red') \n",
        "  \n",
        "    label = f'epoch{epoch+1}'\n",
        "    plt.plot(X,m[epoch]*X.ravel()+b[epoch],color='green')\n",
        "    plt.xlabel(label)\n",
        "    plt.xlim(-3,3)\n",
        "    plt.ylim(-200,200)\n",
        "\n",
        "play = widgets.Play(min=0,max=199)\n",
        "\n",
        "widgets.interactive(update_graph,epoch=play)\n",
        "\n"
      ],
      "metadata": {
        "colab": {
          "base_uri": "https://localhost:8080/",
          "height": 315,
          "referenced_widgets": [
            "5ab3c217af1b45588298f5aa6f70dc9f",
            "26e1bd0a8b794c30ae555264e9244831",
            "99c6a68cb1044e8b8a23aafdcd865cc9",
            "dbdfe73be53341e49af64953167ad461",
            "6a293404a462415bbdc1d5e39b488909",
            "e3ae2fc6aed7434c8db91874977e9886",
            "dd0460dd92cc4591ae60c97feacf9ef1"
          ]
        },
        "id": "oiRoZfdevwh4",
        "outputId": "4f496e30-3e37-4999-8cdf-a51fa6987331"
      },
      "execution_count": null,
      "outputs": [
        {
          "output_type": "display_data",
          "data": {
            "text/plain": [
              "interactive(children=(Play(value=0, description='epoch', max=199), Output()), _dom_classes=('widget-interact',…"
            ],
            "application/vnd.jupyter.widget-view+json": {
              "version_major": 2,
              "version_minor": 0,
              "model_id": "5ab3c217af1b45588298f5aa6f70dc9f"
            }
          },
          "metadata": {}
        }
      ]
    },
    {
      "cell_type": "code",
      "source": [],
      "metadata": {
        "id": "qBrZHmsTwE15"
      },
      "execution_count": null,
      "outputs": []
    },
    {
      "cell_type": "code",
      "source": [],
      "metadata": {
        "id": "mMykiRkQ0BN3"
      },
      "execution_count": null,
      "outputs": []
    }
  ]
}
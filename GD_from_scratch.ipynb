{
  "nbformat": 4,
  "nbformat_minor": 0,
  "metadata": {
    "colab": {
      "provenance": [],
      "authorship_tag": "ABX9TyPAGxg/gEaQ80Emo7uIQI7Y",
      "include_colab_link": true
    },
    "kernelspec": {
      "name": "python3",
      "display_name": "Python 3"
    },
    "language_info": {
      "name": "python"
    }
  },
  "cells": [
    {
      "cell_type": "markdown",
      "metadata": {
        "id": "view-in-github",
        "colab_type": "text"
      },
      "source": [
        "<a href=\"https://colab.research.google.com/github/Himanshu-1703/ML_Algorithms/blob/main/GD_from_scratch.ipynb\" target=\"_parent\"><img src=\"https://colab.research.google.com/assets/colab-badge.svg\" alt=\"Open In Colab\"/></a>"
      ]
    },
    {
      "cell_type": "code",
      "execution_count": null,
      "metadata": {
        "id": "hRDXKFEcRlsd"
      },
      "outputs": [],
      "source": [
        "import numpy as np\n",
        "import pandas as pd\n",
        "import matplotlib.pyplot as plt\n",
        "from sklearn.datasets import make_regression\n"
      ]
    },
    {
      "cell_type": "code",
      "source": [
        "import ipywidgets as widgets"
      ],
      "metadata": {
        "id": "2m5sUsDeSINo"
      },
      "execution_count": null,
      "outputs": []
    },
    {
      "cell_type": "code",
      "source": [
        "# generate the data\n",
        "\n",
        "X, y = make_regression(n_samples=100,n_features=1,\n",
        "                       n_informative=1,noise=75,\n",
        "                       random_state=67)\n",
        "\n",
        "print('The shape of X is ',X.shape)\n",
        "print('The shape of y is ',y.shape)"
      ],
      "metadata": {
        "colab": {
          "base_uri": "https://localhost:8080/"
        },
        "id": "3NsR3JkhSjjk",
        "outputId": "a60ad048-686a-4d72-8d65-b77baf25aa70"
      },
      "execution_count": null,
      "outputs": [
        {
          "output_type": "stream",
          "name": "stdout",
          "text": [
            "The shape of X is  (100, 1)\n",
            "The shape of y is  (100,)\n"
          ]
        }
      ]
    },
    {
      "cell_type": "code",
      "source": [
        "# plot the scatter plot\n",
        "\n",
        "plt.scatter(X,y,c='red')\n",
        "plt.show()"
      ],
      "metadata": {
        "colab": {
          "base_uri": "https://localhost:8080/",
          "height": 430
        },
        "id": "L8do9_lNS88h",
        "outputId": "7358f8f2-71de-471f-fff2-188188132c46"
      },
      "execution_count": null,
      "outputs": [
        {
          "output_type": "display_data",
          "data": {
            "text/plain": [
              "<Figure size 640x480 with 1 Axes>"
            ],
            "image/png": "[encoded data removed]"
          },
          "metadata": {}
        }
      ]
    },
    {
      "cell_type": "code",
      "source": [
        "# make a linear_regression model\n",
        "\n",
        "from sklearn.linear_model import LinearRegression\n",
        "\n",
        "lr = LinearRegression()\n",
        "\n",
        "# fir the model\n",
        "lr.fit(X,y)\n",
        "\n",
        "# calculate the coef and the intercept value\n",
        "\n",
        "print('The coef is ',lr.coef_[0])\n",
        "print('The y intercept is',lr.intercept_)"
      ],
      "metadata": {
        "colab": {
          "base_uri": "https://localhost:8080/"
        },
        "id": "XdhEmlRhTKMi",
        "outputId": "b878f410-4dac-41ae-8f90-c91fb54302af"
      },
      "execution_count": null,
      "outputs": [
        {
          "output_type": "stream",
          "name": "stdout",
          "text": [
            "The coef is  72.15444804653777\n",
            "The y intercept is -2.712796517972686\n"
          ]
        }
      ]
    },
    {
      "cell_type": "code",
      "source": [
        "# calculate the mse value of linear regression\n",
        "\n",
        "from sklearn.metrics import mean_squared_error as mse\n",
        "\n",
        "print('The error is',mse(y,lr.predict(X)))"
      ],
      "metadata": {
        "colab": {
          "base_uri": "https://localhost:8080/"
        },
        "id": "E4YecDNvZSgE",
        "outputId": "5f4c05a0-3f78-4fdf-a683-6928365f76fa"
      },
      "execution_count": null,
      "outputs": [
        {
          "output_type": "stream",
          "name": "stdout",
          "text": [
            "The error is 4661.371635976402\n"
          ]
        }
      ]
    },
    {
      "cell_type": "code",
      "source": [
        "# make a function for GD of the bias term\n",
        "\n",
        "def gd_b(epochs,b,m=lr.coef_[0],l_rate=0.001):\n",
        "    plt.scatter(X,y,c='red')\n",
        "    \n",
        "    y_pred = lr.predict(X)\n",
        "    plt.plot(X,y_pred,label='OLS')\n",
        "    \n",
        "    pred = m * X.ravel() + b\n",
        "    plt.plot(X,pred,label=f'b={b}')\n",
        "\n",
        "    for i in range(epochs):\n",
        "        slope = -2 * np.sum(y - (m * X.ravel()) - b)\n",
        "        b = b - (l_rate * slope)\n",
        "\n",
        "        # plot the line\n",
        "        pred = m * X.ravel() + b\n",
        "        plt.plot(X,pred,label=f'b={b}')\n",
        "\n",
        "    plt.legend()\n",
        "    plt.show()\n",
        "\n",
        "    return b"
      ],
      "metadata": {
        "id": "64TQRr3jUJ1i"
      },
      "execution_count": null,
      "outputs": []
    },
    {
      "cell_type": "code",
      "source": [
        "gd_b(epochs=6,b=-100,l_rate=0.004)"
      ],
      "metadata": {
        "colab": {
          "base_uri": "https://localhost:8080/",
          "height": 448
        },
        "id": "l5LmwqfaV-Jx",
        "outputId": "94b39e91-8045-4e69-b540-1f0a95e3021c"
      },
      "execution_count": null,
      "outputs": [
        {
          "output_type": "display_data",
          "data": {
            "text/plain": [
              "<Figure size 640x480 with 1 Axes>"
            ],
            "image/png": "[encoded data removed]"
          },
          "metadata": {}
        },
        {
          "output_type": "execute_result",
          "data": {
            "text/plain": [
              "-2.7190228989955365"
            ]
          },
          "metadata": {},
          "execution_count": 8
        }
      ]
    },
    {
      "cell_type": "markdown",
      "source": [
        "## Batch Gradient Descent for Simple LR"
      ],
      "metadata": {
        "id": "Pb4n_5YWaM-8"
      }
    },
    {
      "cell_type": "code",
      "source": [
        "# make the GD regressor class\n",
        "\n",
        "class GD_regressor:\n",
        "\n",
        "    def __init__(self,epochs,l_rate,b=0,m=1):\n",
        "        self.epochs = epochs\n",
        "        self.l_rate = l_rate\n",
        "        self.b = b\n",
        "        self.m = m\n",
        "        self.b_list = []\n",
        "        self.m_list = []\n",
        "\n",
        "\n",
        "    def fit(self,X,y):\n",
        "        for i in range(self.epochs):\n",
        "            y_pred = self.m * X.ravel() + self.b\n",
        "            loss = np.mean(np.square(y - y_pred))\n",
        "\n",
        "            print(f'The mean loss is {loss} and the value of m is {self.m} and b is {self.b}')\n",
        "            self.b_list.append(self.b)\n",
        "            self.m_list.append(self.m)\n",
        "\n",
        "            # update for m\n",
        "            slope_m = -2 * np.sum((y - (self.m * X.ravel()) - self.b) * X.ravel())\n",
        "            self.m = self.m - (self.l_rate * slope_m)\n",
        "\n",
        "            # update for b\n",
        "            slope_b = -2 * np.sum(y - (self.m * X.ravel()) - self.b)\n",
        "            self.b = self.b - (self.l_rate * slope_b)\n",
        "\n",
        "        return self.m,self.b"
      ],
      "metadata": {
        "id": "Zm6j8dx7WFs8"
      },
      "execution_count": null,
      "outputs": []
    },
    {
      "cell_type": "code",
      "source": [
        "gd_reg = GD_regressor(epochs=20,l_rate=0.003,b=-500,m=1)"
      ],
      "metadata": {
        "id": "K9fbVYjxYlat"
      },
      "execution_count": null,
      "outputs": []
    },
    {
      "cell_type": "code",
      "source": [
        "gd_reg.fit(X,y)"
      ],
      "metadata": {
        "colab": {
          "base_uri": "https://localhost:8080/"
        },
        "id": "fSW-iXXjYwMn",
        "outputId": "24afe6b6-901c-485e-d5eb-d62f0c04d799"
      },
      "execution_count": null,
      "outputs": [
        {
          "output_type": "stream",
          "name": "stdout",
          "text": [
            "The mean loss is 244477.20403182547 and the value of m is 1 and b is -500\n",
            "The mean loss is 47970.95431075886 and the value of m is -11.946925455279823 and b is -210.1033847513068\n",
            "The mean loss is 14020.972439345902 and the value of m is 11.08501443944772 and b is -91.82358785026699\n",
            "The mean loss is 6981.727655322182 and the value of m is 34.00577658107182 and b is -42.20172274314161\n",
            "The mean loss is 5281.165581206275 and the value of m is 49.95411554249557 and b is -20.745708709271042\n",
            "The mean loss is 4832.022286788206 and the value of m is 59.733725837934664 and b is -11.177717409932393\n",
            "The mean loss is 4708.744440660528 and the value of m is 65.36894362430924 and b is -6.782605623762178\n",
            "The mean loss is 4674.5129091497365 and the value of m is 68.50338656321215 and b is -4.7086728523895856\n",
            "The mean loss is 4665.004217824405 and the value of m is 70.20947631202273 and b is -3.7071606190386452\n",
            "The mean loss is 4662.3718996561565 and the value of m is 71.12527470258229 and b is -3.2142618860115952\n",
            "The mean loss is 4661.64614329581 and the value of m is 71.6123545059715 and b is -2.9680146615358693\n",
            "The mean loss is 4661.446769914759 and the value of m is 71.8698113421175 and b is -2.8435693623541187\n",
            "The mean loss is 4661.3921590606715 and the value of m is 72.00531999619164 and b is -2.7801347281863085\n",
            "The mean loss is 4661.377233598572 and the value of m is 72.07643485784634 and b is -2.747593943774865\n",
            "The mean loss is 4661.373161069215 and the value of m is 72.11368034335997 and b is -2.730824043080587\n",
            "The mean loss is 4661.372051171997 and the value of m is 72.13315967880028 and b is -2.722152962228669\n",
            "The mean loss is 4661.371748948027 and the value of m is 72.14333731033442 and b is -2.7176588317616726\n",
            "The mean loss is 4661.3716667030885 and the value of m is 72.14865128999058 and b is -2.7153256385742126\n",
            "The mean loss is 4661.371644331306 and the value of m is 72.15142450303573 and b is -2.714112877863961\n",
            "The mean loss is 4661.371638247742 and the value of m is 72.1528712727504 and b is -2.7134819686368896\n"
          ]
        },
        {
          "output_type": "execute_result",
          "data": {
            "text/plain": [
              "(72.15362586489503, -2.713153557415137)"
            ]
          },
          "metadata": {},
          "execution_count": 11
        }
      ]
    },
    {
      "cell_type": "markdown",
      "source": [
        "## Batch Gradient Descent for Multiple Linear regression"
      ],
      "metadata": {
        "id": "fXqQjKvgbQUD"
      }
    },
    {
      "cell_type": "code",
      "source": [
        "# generate the data\n",
        "\n",
        "X, y = make_regression(n_samples=500,n_features=10,\n",
        "                       n_informative=7,noise=45,\n",
        "                       random_state=43)\n",
        "\n",
        "print('The shape of X is ',X.shape)\n",
        "print('The shape of y is ',y.shape)"
      ],
      "metadata": {
        "colab": {
          "base_uri": "https://localhost:8080/"
        },
        "id": "TXCTGIoXb1t9",
        "outputId": "e4e98cb3-7d96-48e7-aaa6-ce7e2b924546"
      },
      "execution_count": null,
      "outputs": [
        {
          "output_type": "stream",
          "name": "stdout",
          "text": [
            "The shape of X is  (500, 10)\n",
            "The shape of y is  (500,)\n"
          ]
        }
      ]
    },
    {
      "cell_type": "code",
      "source": [
        "# do the train test split\n",
        "from sklearn.model_selection import train_test_split\n",
        "\n",
        "X_train,X_test,y_train,y_test = train_test_split(X,y,test_size=0.2,random_state=32)\n",
        "\n",
        "print('The shape of X_train is ',X_train.shape)\n",
        "print('The shape of X_test is ',X_test.shape)"
      ],
      "metadata": {
        "colab": {
          "base_uri": "https://localhost:8080/"
        },
        "id": "igtWzN8tcXVb",
        "outputId": "a2b66374-023a-4a2c-e32d-9210c3108e45"
      },
      "execution_count": null,
      "outputs": [
        {
          "output_type": "stream",
          "name": "stdout",
          "text": [
            "The shape of X_train is  (400, 10)\n",
            "The shape of X_test is  (100, 10)\n"
          ]
        }
      ]
    },
    {
      "cell_type": "code",
      "source": [
        "from sklearn.metrics import r2_score\n",
        "# apply linear regression on the data\n",
        "\n",
        "lin_reg = LinearRegression()\n",
        "\n",
        "# fit on the data\n",
        "lin_reg.fit(X_train,y_train)\n",
        "\n",
        "# predict on the data\n",
        "y_pred_train = lin_reg.predict(X_train)\n",
        "y_pred_test = lin_reg.predict(X_test)\n",
        "\n",
        "# calculate the r2 scores\n",
        "\n",
        "print('The score for the train data is ',r2_score(y_train,y_pred_train))\n",
        "print('The score for the test data is ',r2_score(y_test,y_pred_test))"
      ],
      "metadata": {
        "colab": {
          "base_uri": "https://localhost:8080/"
        },
        "id": "EpXsMSd1cxKp",
        "outputId": "21b722ea-7032-4c59-cccd-d691e8b642d5"
      },
      "execution_count": null,
      "outputs": [
        {
          "output_type": "stream",
          "name": "stdout",
          "text": [
            "The score for the train data is  0.9558375853500863\n",
            "The score for the test data is  0.9442814350001307\n"
          ]
        }
      ]
    },
    {
      "cell_type": "code",
      "source": [
        "# print the coef and the intercept\n",
        "\n",
        "print(lin_reg.coef_)\n",
        "print(lin_reg.intercept_)"
      ],
      "metadata": {
        "colab": {
          "base_uri": "https://localhost:8080/"
        },
        "id": "ZyDSdv1sdm3M",
        "outputId": "2d27f1b9-7421-482f-e23d-b314ae455efb"
      },
      "execution_count": null,
      "outputs": [
        {
          "output_type": "stream",
          "name": "stdout",
          "text": [
            "[68.69529421 83.74719169 98.50121013 98.09371566 56.1305532   1.54053435\n",
            "  0.20693515 55.24271983 71.11679176 -2.19434225]\n",
            "-1.2219975651593629\n"
          ]
        }
      ]
    },
    {
      "cell_type": "code",
      "source": [
        "# create the Batch GD for Multiple LR\n",
        "\n",
        "class Batch_GD:\n",
        "\n",
        "    def __init__(self,learning_rate=0.01,epochs=100):\n",
        "        self.coef_ = None\n",
        "        self.intercept_ = None\n",
        "        self.epochs = epochs\n",
        "        self.learning_rate = learning_rate\n",
        "\n",
        "    def fit(self,X,y):\n",
        "        # initialize the intercept\n",
        "        self.intercept_ = 0\n",
        "\n",
        "        # initialize the coef\n",
        "        self.coef_ = np.ones(shape=X.shape[1])\n",
        "\n",
        "        # update params after every epoch\n",
        "        for i in range(self.epochs):\n",
        "            #hyper_plane = coef * X + intercept\n",
        "            y_pred = np.dot(X,self.coef_) + self.intercept_\n",
        "            resid = y - y_pred\n",
        "\n",
        "            # update the coef\n",
        "            coef_der = (-2 * np.dot(resid,X)) / X.shape[0]\n",
        "            self.coef_ = self.coef_ - (self.learning_rate * coef_der)\n",
        "\n",
        "            # update the intercept\n",
        "            intercept_der = -2 * np.mean(resid)\n",
        "            self.intercept_ = self.intercept_ - (self.learning_rate * intercept_der)\n",
        "\n",
        "        return self.coef_,self.intercept_\n",
        "\n",
        "    def predict(self,X):\n",
        "        pred = np.dot(X,self.coef_) + self.intercept_\n",
        "        return pred"
      ],
      "metadata": {
        "id": "hPHs1wmtdxWn"
      },
      "execution_count": null,
      "outputs": []
    },
    {
      "cell_type": "code",
      "source": [
        "bgd = Batch_GD(learning_rate=0.03,epochs=200)"
      ],
      "metadata": {
        "id": "z1e_DOADkCzc"
      },
      "execution_count": null,
      "outputs": []
    },
    {
      "cell_type": "code",
      "source": [
        "bgd.fit(X_train,y_train)"
      ],
      "metadata": {
        "colab": {
          "base_uri": "https://localhost:8080/"
        },
        "id": "nPj4enOhkOBL",
        "outputId": "57137cd1-0dd4-4814-de10-cd20845088e4"
      },
      "execution_count": null,
      "outputs": [
        {
          "output_type": "execute_result",
          "data": {
            "text/plain": [
              "(array([68.66948775, 83.75431853, 98.48401464, 98.08097834, 56.12914158,\n",
              "         1.5286027 ,  0.21662642, 55.22806529, 71.11322373, -2.1967868 ]),\n",
              " -1.2103746104522124)"
            ]
          },
          "metadata": {},
          "execution_count": 18
        }
      ]
    },
    {
      "cell_type": "code",
      "source": [
        "# predict on the data\n",
        "y_pred_train = bgd.predict(X_train)\n",
        "y_pred_test = bgd.predict(X_test)\n",
        "\n",
        "# calculate the r2 scores\n",
        "\n",
        "print('The score for the train data is ',r2_score(y_train,y_pred_train))\n",
        "print('The score for the test data is ',r2_score(y_test,y_pred_test))"
      ],
      "metadata": {
        "colab": {
          "base_uri": "https://localhost:8080/"
        },
        "id": "nc1VLuUrkQvb",
        "outputId": "775d00c8-3cc6-499a-9e38-f5641bddfa6c"
      },
      "execution_count": null,
      "outputs": [
        {
          "output_type": "stream",
          "name": "stdout",
          "text": [
            "The score for the train data is  0.9558375579158611\n",
            "The score for the test data is  0.9442958785184765\n"
          ]
        }
      ]
    },
    {
      "cell_type": "markdown",
      "source": [
        "## Stochastic gradient Descent"
      ],
      "metadata": {
        "id": "3NE-oEnRkjFa"
      }
    },
    {
      "cell_type": "code",
      "source": [
        "from sklearn.metrics import r2_score\n",
        "# apply linear regression on the data\n",
        "\n",
        "lin_reg = LinearRegression()\n",
        "\n",
        "# fit on the data\n",
        "lin_reg.fit(X_train,y_train)\n",
        "\n",
        "# predict on the data\n",
        "y_pred_train = lin_reg.predict(X_train)\n",
        "y_pred_test = lin_reg.predict(X_test)\n",
        "\n",
        "# calculate the r2 scores\n",
        "\n",
        "print('The score for the train data is ',r2_score(y_train,y_pred_train))\n",
        "print('The score for the test data is ',r2_score(y_test,y_pred_test))"
      ],
      "metadata": {
        "colab": {
          "base_uri": "https://localhost:8080/"
        },
        "id": "-nQiKuc8k9xp",
        "outputId": "6de9ce05-6401-45d7-f523-d1b6edbfc1d6"
      },
      "execution_count": null,
      "outputs": [
        {
          "output_type": "stream",
          "name": "stdout",
          "text": [
            "The score for the train data is  0.9558375853500863\n",
            "The score for the test data is  0.9442814350001307\n"
          ]
        }
      ]
    },
    {
      "cell_type": "code",
      "source": [
        "# print the coef and the intercept\n",
        "\n",
        "print(lin_reg.coef_)\n",
        "print(lin_reg.intercept_)"
      ],
      "metadata": {
        "colab": {
          "base_uri": "https://localhost:8080/"
        },
        "id": "P_3ZQ2-elCaq",
        "outputId": "9cf8c4ca-c54d-48f0-c40a-bff37c528f32"
      },
      "execution_count": null,
      "outputs": [
        {
          "output_type": "stream",
          "name": "stdout",
          "text": [
            "[68.69529421 83.74719169 98.50121013 98.09371566 56.1305532   1.54053435\n",
            "  0.20693515 55.24271983 71.11679176 -2.19434225]\n",
            "-1.2219975651593629\n"
          ]
        }
      ]
    },
    {
      "cell_type": "code",
      "source": [
        "# create the Stochastic GD for Multiple LR\n",
        "\n",
        "class SGD_Regressor:\n",
        "\n",
        "    def __init__(self,learning_rate=0.01,epochs=10):\n",
        "        self.coef_ = None\n",
        "        self.intercept_ = None\n",
        "        self.epochs = epochs\n",
        "        self.learning_rate = learning_rate\n",
        "\n",
        "    def fit(self,X,y):\n",
        "        # initialize the intercept\n",
        "        self.intercept_ = 0\n",
        "\n",
        "        # initialize the coef\n",
        "        self.coef_ = np.ones(shape=X.shape[1])\n",
        "\n",
        "        # number of rows in the data\n",
        "        n = X.shape[0]\n",
        "        \n",
        "        for i in range(self.epochs):\n",
        "            for j in range(n):\n",
        "        \n",
        "                # update params after every row \n",
        "                # select the random row of data\n",
        "                id = np.random.randint(low=0,high=n)\n",
        "\n",
        "                # calculate the y_pred for the row\n",
        "                y_pred = np.dot(X[id],self.coef_) + self.intercept_\n",
        "                resid = y[id] - y_pred\n",
        "\n",
        "                # update the coef\n",
        "                coef_der = -2 * (np.dot(resid,X[id]))\n",
        "                self.coef_ = self.coef_ - (self.learning_rate * coef_der)\n",
        "\n",
        "                # update the intercept\n",
        "                intercept_der = -2 * resid\n",
        "                self.intercept_ = self.intercept_ - (self.learning_rate * intercept_der)\n",
        "\n",
        "        return self.coef_,self.intercept_\n",
        "\n",
        "    def predict(self,X):\n",
        "        pred = np.dot(X,self.coef_) + self.intercept_\n",
        "        return pred"
      ],
      "metadata": {
        "id": "u8kBQs80lGX5"
      },
      "execution_count": null,
      "outputs": []
    },
    {
      "cell_type": "code",
      "source": [
        "sgd = SGD_Regressor(learning_rate=0.01,epochs=80)\n",
        "\n",
        "sgd.fit(X_train,y_train)"
      ],
      "metadata": {
        "colab": {
          "base_uri": "https://localhost:8080/"
        },
        "id": "M_xAZJUjmxzs",
        "outputId": "187c5ae0-5c6b-4c95-a621-2730e4852ffc"
      },
      "execution_count": null,
      "outputs": [
        {
          "output_type": "execute_result",
          "data": {
            "text/plain": [
              "(array([ 67.81273472,  88.73715062,  96.91705355, 100.56771678,\n",
              "         60.10358089,  11.04206009,   4.55001223,  53.49403671,\n",
              "         67.17602011,   2.14259092]),\n",
              " -3.4068760603092607)"
            ]
          },
          "metadata": {},
          "execution_count": 23
        }
      ]
    },
    {
      "cell_type": "code",
      "source": [
        "# predict on the data\n",
        "y_pred_train = sgd.predict(X_train)\n",
        "y_pred_test = sgd.predict(X_test)\n",
        "\n",
        "# calculate the r2 scores\n",
        "\n",
        "print('The score for the train data is ',r2_score(y_train,y_pred_train))\n",
        "print('The score for the test data is ',r2_score(y_test,y_pred_test))"
      ],
      "metadata": {
        "colab": {
          "base_uri": "https://localhost:8080/"
        },
        "id": "NnMIOmEWmrGc",
        "outputId": "4356fa07-3fdf-4e58-edf7-0b4ec9b61986"
      },
      "execution_count": null,
      "outputs": [
        {
          "output_type": "stream",
          "name": "stdout",
          "text": [
            "The score for the train data is  0.9512100889007701\n",
            "The score for the test data is  0.9424609425309376\n"
          ]
        }
      ]
    },
    {
      "cell_type": "markdown",
      "source": [
        "## Mini Batch Gradient Descent"
      ],
      "metadata": {
        "id": "uz5ir8CNMdwf"
      }
    },
    {
      "cell_type": "code",
      "source": [
        "from sklearn.metrics import r2_score\n",
        "# apply linear regression on the data\n",
        "\n",
        "lin_reg = LinearRegression()\n",
        "\n",
        "# fit on the data\n",
        "lin_reg.fit(X_train,y_train)\n",
        "\n",
        "# predict on the data\n",
        "y_pred_train = lin_reg.predict(X_train)\n",
        "y_pred_test = lin_reg.predict(X_test)\n",
        "\n",
        "# calculate the r2 scores\n",
        "\n",
        "print('The score for the train data is ',r2_score(y_train,y_pred_train))\n",
        "print('The score for the test data is ',r2_score(y_test,y_pred_test))"
      ],
      "metadata": {
        "id": "ct8JycFGnAzm",
        "colab": {
          "base_uri": "https://localhost:8080/"
        },
        "outputId": "943d0718-8d63-4fed-ea7c-50260505745d"
      },
      "execution_count": null,
      "outputs": [
        {
          "output_type": "stream",
          "name": "stdout",
          "text": [
            "The score for the train data is  0.9558375853500863\n",
            "The score for the test data is  0.9442814350001307\n"
          ]
        }
      ]
    },
    {
      "cell_type": "code",
      "source": [
        "# print the coef and the intercept\n",
        "\n",
        "print(lin_reg.coef_)\n",
        "print(lin_reg.intercept_)"
      ],
      "metadata": {
        "colab": {
          "base_uri": "https://localhost:8080/"
        },
        "id": "HKqY_MVNM2w6",
        "outputId": "19a7747c-61a1-42dc-be5c-a64655bfbb0b"
      },
      "execution_count": null,
      "outputs": [
        {
          "output_type": "stream",
          "name": "stdout",
          "text": [
            "[68.69529421 83.74719169 98.50121013 98.09371566 56.1305532   1.54053435\n",
            "  0.20693515 55.24271983 71.11679176 -2.19434225]\n",
            "-1.2219975651593629\n"
          ]
        }
      ]
    },
    {
      "cell_type": "code",
      "source": [
        "# create the Mini Batch GD for Multiple LR\n",
        "\n",
        "class MGD_Regressor:\n",
        "\n",
        "    def __init__(self,batch_size=32,learning_rate=0.01,epochs=100):\n",
        "        self.coef_ = None\n",
        "        self.intercept_ = None\n",
        "        self.batch_size = batch_size\n",
        "        self.learning_rate = learning_rate\n",
        "        self.epochs = epochs\n",
        "\n",
        "    def fit(self,X,y):\n",
        "\n",
        "        # initiate the intercept\n",
        "        self.intercept_ = 0\n",
        "\n",
        "        # initiate the coef\n",
        "        self.coef_ = np.ones(shape=X.shape[1])\n",
        "\n",
        "        # determine the number of batches\n",
        "        batch = int(X.shape[0] / self.batch_size)\n",
        "\n",
        "        for i in range(self.epochs):\n",
        "            for j in range(batch):\n",
        "                \n",
        "                # get the index of the data\n",
        "                idx = np.random.randint(low=0,high=X.shape[0],size=self.batch_size)\n",
        "                \n",
        "                # calculate the y_pred\n",
        "                y_pred = (np.dot(X[idx],self.coef_)) + self.intercept_\n",
        "                resid = y[idx] - y_pred\n",
        "                \n",
        "                # update the coef\n",
        "                coef_der = (-2 * np.dot(resid,X[idx])) / self.batch_size\n",
        "                self.coef_ = self.coef_ - (self.learning_rate * coef_der)\n",
        "\n",
        "                # update the intercept\n",
        "                inter_der = -2 * np.mean(resid)\n",
        "                self.intercept_ = self.intercept_ - (self.learning_rate * inter_der)\n",
        "\n",
        "                return self.coef_,self.intercept_\n",
        "\n",
        "    def predict(self,X):\n",
        "        pred = (np.dot(X,self.coef_)) + self.intercept_\n",
        "        return pred"
      ],
      "metadata": {
        "id": "hlMg0gwEM6r9"
      },
      "execution_count": null,
      "outputs": []
    },
    {
      "cell_type": "code",
      "source": [
        "mgd = MGD_Regressor(learning_rate=0.3,epochs=3000,batch_size=150)"
      ],
      "metadata": {
        "id": "e_Ha9MD5OH2m"
      },
      "execution_count": null,
      "outputs": []
    },
    {
      "cell_type": "code",
      "source": [
        "mgd.fit(X_train,y_train)"
      ],
      "metadata": {
        "colab": {
          "base_uri": "https://localhost:8080/"
        },
        "id": "fXbsRgIUOSNs",
        "outputId": "476a9910-9c56-4972-96db-1b63f9e9c971"
      },
      "execution_count": null,
      "outputs": [
        {
          "output_type": "execute_result",
          "data": {
            "text/plain": [
              "(array([19.2117269 , 72.62381229, 57.01981775, 42.75930791, 37.82803707,\n",
              "        -1.93492891, -2.16213008, 33.08852086, 37.17545285,  4.52847924]),\n",
              " 15.119264548661512)"
            ]
          },
          "metadata": {},
          "execution_count": 241
        }
      ]
    },
    {
      "cell_type": "code",
      "source": [
        "# predict on the data\n",
        "y_pred_train = mgd.predict(X_train)\n",
        "y_pred_test = mgd.predict(X_test)\n",
        "\n",
        "# calculate the r2 scores\n",
        "\n",
        "print('The score for the train data is ',r2_score(y_train,y_pred_train))\n",
        "print('The score for the test data is ',r2_score(y_test,y_pred_test))"
      ],
      "metadata": {
        "colab": {
          "base_uri": "https://localhost:8080/"
        },
        "id": "9cnNjPOiOVLq",
        "outputId": "fbe04844-d8ae-408e-e971-f8d1b6c4efa4"
      },
      "execution_count": null,
      "outputs": [
        {
          "output_type": "stream",
          "name": "stdout",
          "text": [
            "The score for the train data is  0.768820727451506\n",
            "The score for the test data is  0.6945003620249716\n"
          ]
        }
      ]
    }
  ]
}
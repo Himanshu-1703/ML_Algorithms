{
  "nbformat": 4,
  "nbformat_minor": 0,
  "metadata": {
    "colab": {
      "provenance": [],
      "authorship_tag": "ABX9TyPoJ9FqRRiidi1DEUteGdqX",
      "include_colab_link": true
    },
    "kernelspec": {
      "name": "python3",
      "display_name": "Python 3"
    },
    "language_info": {
      "name": "python"
    }
  },
  "cells": [
    {
      "cell_type": "markdown",
      "metadata": {
        "id": "view-in-github",
        "colab_type": "text"
      },
      "source": [
        "<a href=\"https://colab.research.google.com/github/Himanshu-1703/ML_Algorithms/blob/main/Ridge_regression.ipynb\" target=\"_parent\"><img src=\"https://colab.research.google.com/assets/colab-badge.svg\" alt=\"Open In Colab\"/></a>"
      ]
    },
    {
      "cell_type": "code",
      "execution_count": null,
      "metadata": {
        "id": "RIvVG6sKWZy7"
      },
      "outputs": [],
      "source": [
        "import pandas as pd\n",
        "import numpy as np\n",
        "import matplotlib.pyplot as plt\n",
        "from sklearn.datasets import make_regression\n",
        "\n",
        "from sklearn.model_selection import train_test_split\n",
        "from sklearn.linear_model import Ridge,LinearRegression\n",
        "from sklearn.metrics import r2_score"
      ]
    },
    {
      "cell_type": "code",
      "source": [
        "X, y = make_regression(n_samples=50,n_features=1,n_informative=1,noise=50,random_state=45)"
      ],
      "metadata": {
        "id": "Kgg_MmTaW866"
      },
      "execution_count": null,
      "outputs": []
    },
    {
      "cell_type": "code",
      "source": [
        "# plot x and y\n",
        "\n",
        "plt.scatter(X,y,c='red')\n",
        "plt.show()"
      ],
      "metadata": {
        "colab": {
          "base_uri": "https://localhost:8080/",
          "height": 265
        },
        "id": "80_glGHFXSWV",
        "outputId": "ba594b83-e5b4-4f21-8415-eacb76c27778"
      },
      "execution_count": null,
      "outputs": [
        {
          "output_type": "display_data",
          "data": {
            "text/plain": [
              "<Figure size 432x288 with 1 Axes>"
            ],
            "image/png": "[encoded data removed]"
          },
          "metadata": {
            "needs_background": "light"
          }
        }
      ]
    },
    {
      "cell_type": "code",
      "source": [
        "# do train test split\n",
        "\n",
        "X_train,X_test,y_train,y_test = train_test_split(X,y,test_size=0.2,random_state=43)\n",
        "\n",
        "X_train.shape,X_test.shape\n",
        "\n",
        "y_train.shape,y_test.shape"
      ],
      "metadata": {
        "colab": {
          "base_uri": "https://localhost:8080/"
        },
        "id": "3YfWVykkXj83",
        "outputId": "b653fbc9-0f99-4190-eeb7-85b753c445e6"
      },
      "execution_count": null,
      "outputs": [
        {
          "output_type": "execute_result",
          "data": {
            "text/plain": [
              "((40,), (10,))"
            ]
          },
          "metadata": {},
          "execution_count": 46
        }
      ]
    },
    {
      "cell_type": "code",
      "source": [
        "# run linear regression\n",
        "\n",
        "lr = LinearRegression()\n",
        "\n",
        "lr.fit(X_train,y_train)\n",
        "\n",
        "y_pred_train = lr.predict(X_train)\n",
        "y_pred_test = lr.predict(X_test)\n",
        "\n",
        "print('the train score is',r2_score(y_train,y_pred_train))\n",
        "print('the test score is',r2_score(y_test,y_pred_test))"
      ],
      "metadata": {
        "colab": {
          "base_uri": "https://localhost:8080/"
        },
        "id": "yXhxthojXaB8",
        "outputId": "5dd9cc90-0f58-43b6-b0ed-cd5208d1cd37"
      },
      "execution_count": null,
      "outputs": [
        {
          "output_type": "stream",
          "name": "stdout",
          "text": [
            "the train score is 0.781788099907407\n",
            "the test score is 0.5903900468968328\n"
          ]
        }
      ]
    },
    {
      "cell_type": "code",
      "source": [
        "lr.coef_,lr.intercept_"
      ],
      "metadata": {
        "colab": {
          "base_uri": "https://localhost:8080/"
        },
        "id": "7vYZX-A_sbQr",
        "outputId": "d6054daa-2891-44e0-fcda-6bc5f396f1c0"
      },
      "execution_count": null,
      "outputs": [
        {
          "output_type": "execute_result",
          "data": {
            "text/plain": [
              "(array([82.56921208]), -2.9338002816879793)"
            ]
          },
          "metadata": {},
          "execution_count": 48
        }
      ]
    },
    {
      "cell_type": "code",
      "source": [
        "# plot the regression line\n",
        "\n",
        "plt.scatter(X_train,y_train,c='red')\n",
        "plt.scatter(X_test,y_test,color='black',marker='+')\n",
        "plt.plot(X_train,y_pred_train,color='green')\n",
        "plt.show()"
      ],
      "metadata": {
        "colab": {
          "base_uri": "https://localhost:8080/",
          "height": 265
        },
        "id": "rTXZy8l2YTzx",
        "outputId": "5b96f0b4-a6b1-4247-9220-6c59728a9714"
      },
      "execution_count": null,
      "outputs": [
        {
          "output_type": "display_data",
          "data": {
            "text/plain": [
              "<Figure size 432x288 with 1 Axes>"
            ],
            "image/png": "[encoded data removed]"
          },
          "metadata": {
            "needs_background": "light"
          }
        }
      ]
    },
    {
      "cell_type": "markdown",
      "source": [
        "Simple Linear regression applied on the data after train test split."
      ],
      "metadata": {
        "id": "OufjMLfz3c6f"
      }
    },
    {
      "cell_type": "code",
      "source": [
        "# run ridge regression\n",
        "\n",
        "ridge = Ridge()\n",
        "\n",
        "ridge.fit(X_train,y_train)\n",
        "\n",
        "y_pred_train = ridge.predict(X_train)\n",
        "y_pred_test = ridge.predict(X_test)\n",
        "\n",
        "print('the train score is',r2_score(y_train,y_pred_train))\n",
        "print('the test score is',r2_score(y_test,y_pred_test))"
      ],
      "metadata": {
        "colab": {
          "base_uri": "https://localhost:8080/"
        },
        "id": "eBA8H0VUYfUK",
        "outputId": "c4db9d1d-2fcd-49f9-b848-be9a33b2f62f"
      },
      "execution_count": null,
      "outputs": [
        {
          "output_type": "stream",
          "name": "stdout",
          "text": [
            "the train score is 0.7810504666248563\n",
            "the test score is 0.628274039867821\n"
          ]
        }
      ]
    },
    {
      "cell_type": "code",
      "source": [
        "# plot the regression line\n",
        "\n",
        "plt.scatter(X_train,y_train,c='red')\n",
        "plt.plot(X_train,y_pred_train,color='green')\n",
        "plt.show()"
      ],
      "metadata": {
        "colab": {
          "base_uri": "https://localhost:8080/",
          "height": 265
        },
        "id": "sz1dxk3oYoZk",
        "outputId": "2e75b4ab-e388-4ca9-fbf9-25f52f11e96d"
      },
      "execution_count": null,
      "outputs": [
        {
          "output_type": "display_data",
          "data": {
            "text/plain": [
              "<Figure size 432x288 with 1 Axes>"
            ],
            "image/png": "[encoded data removed]"
          },
          "metadata": {
            "needs_background": "light"
          }
        }
      ]
    },
    {
      "cell_type": "code",
      "source": [
        "# plot regression line for different values of alpha\n",
        "\n",
        "def ridge_reg(alphas):\n",
        "    plt.scatter(X_train,y_train,c='red')\n",
        "    plt.scatter(X_test,y_test,c='black',marker='x')\n",
        "    for a in alphas:\n",
        "        ridge = Ridge(alpha=a)\n",
        "\n",
        "        ridge.fit(X_train,y_train)\n",
        "\n",
        "        y_pred_train = ridge.predict(X_train)\n",
        "        y_pred_test = ridge.predict(X_test)\n",
        "\n",
        "        plt.plot(X_train,y_pred_train,label=f'Alpha {a}')\n",
        "        print()\n",
        "        print(f'the train score is for alpha {a} is',r2_score(y_train,y_pred_train))\n",
        "        print(f'the test score is for alpha {a} is',r2_score(y_test,y_pred_test))\n",
        " \n",
        "\n",
        "    plt.legend()   \n",
        "    plt.show()"
      ],
      "metadata": {
        "id": "_DxWswWDYrLr"
      },
      "execution_count": null,
      "outputs": []
    },
    {
      "cell_type": "code",
      "source": [
        "alphas = [0.1,1,10,20,100]\n",
        "\n",
        "ridge_reg(alphas)"
      ],
      "metadata": {
        "colab": {
          "base_uri": "https://localhost:8080/",
          "height": 539
        },
        "id": "Rd9bcnaQZiSq",
        "outputId": "ca9c8b55-14c1-422f-9ce7-ec0f1f9b33a8"
      },
      "execution_count": null,
      "outputs": [
        {
          "output_type": "stream",
          "name": "stdout",
          "text": [
            "\n",
            "the train score is for alpha 0.1 is 0.7817802981778095\n",
            "the test score is for alpha 0.1 is 0.5944538505387289\n",
            "\n",
            "the train score is for alpha 1 is 0.7810504666248563\n",
            "the test score is for alpha 1 is 0.628274039867821\n",
            "\n",
            "the train score is for alpha 10 is 0.7365158395343927\n",
            "the test score is for alpha 10 is 0.7898701476054619\n",
            "\n",
            "the train score is for alpha 20 is 0.664136141848809\n",
            "the test score is for alpha 20 is 0.801899320615926\n",
            "\n",
            "the train score is for alpha 100 is 0.33006626563566255\n",
            "the test score is for alpha 100 is 0.4598294304699181\n"
          ]
        },
        {
          "output_type": "display_data",
          "data": {
            "text/plain": [
              "<Figure size 432x288 with 1 Axes>"
            ],
            "image/png": "[encoded data removed]"
          },
          "metadata": {
            "needs_background": "light"
          }
        }
      ]
    },
    {
      "cell_type": "markdown",
      "source": [
        "The graph shows how the increasing value of alpha changes the slope of the line and makes it more horizontal.\n",
        "\n",
        "This technique reduces overfitting and tries to generalize more on the test data."
      ],
      "metadata": {
        "id": "dqF2XTTn2Gc1"
      }
    },
    {
      "cell_type": "code",
      "source": [
        "# impact of alpha on loss function\n",
        "\n",
        "def ridge_loss(m,alpha):\n",
        "    y_pred = (m * X_train.ravel()) + b\n",
        "    return np.sum((y_train - y_pred)**2) + alpha * (m**2)\n",
        "\n",
        "b = -2.933\n",
        "\n",
        "m = np.linspace(-300,300,100)\n",
        "all_loss = []\n",
        "alphas = [1,10,20,30,50,100]\n",
        "\n",
        "for a in alphas:\n",
        "    all_loss = []\n",
        "    for coef in m:\n",
        "        loss = ridge_loss(coef,a)\n",
        "        all_loss.append(loss)\n",
        "    \n",
        "    plt.plot(m,all_loss,label=f'Alpha {a}')\n",
        "plt.legend()\n",
        "plt.show()"
      ],
      "metadata": {
        "id": "84fW5Rs_Zsv6",
        "colab": {
          "base_uri": "https://localhost:8080/",
          "height": 276
        },
        "outputId": "c06587f8-2122-4a13-be6d-454c4156f842"
      },
      "execution_count": null,
      "outputs": [
        {
          "output_type": "display_data",
          "data": {
            "text/plain": [
              "<Figure size 432x288 with 1 Axes>"
            ],
            "image/png": "[encoded data removed]"
          },
          "metadata": {
            "needs_background": "light"
          }
        }
      ]
    },
    {
      "cell_type": "markdown",
      "source": [
        "The value for the coefficient moves towards zero for the minimum loss when the alpha value is increased in the Ridge regression.\n",
        "\n",
        "This graph shows that the value of slope/coefficient approaches near to zero when the value of alpha is increased. "
      ],
      "metadata": {
        "id": "OOPzpJqj1uir"
      }
    },
    {
      "cell_type": "code",
      "source": [],
      "metadata": {
        "id": "Tpk-FnJ21trc"
      },
      "execution_count": null,
      "outputs": []
    },
    {
      "cell_type": "code",
      "source": [
        "# check for the different gradient values\n",
        "\n",
        "X_new,y_new = make_regression(n_samples=500,n_features=10,n_informative=7,noise=30)"
      ],
      "metadata": {
        "id": "2aRcHkMuxqhp"
      },
      "execution_count": null,
      "outputs": []
    },
    {
      "cell_type": "code",
      "source": [
        "# do train test split\n",
        "\n",
        "X_train,X_test,y_train,y_test = train_test_split(X_new,y_new,test_size=0.2,random_state=43)\n",
        "\n",
        "X_train.shape,X_test.shape\n",
        "\n",
        "y_train.shape,y_test.shape"
      ],
      "metadata": {
        "colab": {
          "base_uri": "https://localhost:8080/"
        },
        "id": "5Mg4L98x0-PB",
        "outputId": "2c7f51fa-78f6-4b7f-8810-c749640f3f0c"
      },
      "execution_count": null,
      "outputs": [
        {
          "output_type": "execute_result",
          "data": {
            "text/plain": [
              "((400,), (100,))"
            ]
          },
          "metadata": {},
          "execution_count": 56
        }
      ]
    },
    {
      "cell_type": "code",
      "source": [
        "# run linear regression\n",
        "\n",
        "lr = LinearRegression()\n",
        "\n",
        "lr.fit(X_train,y_train)\n",
        "\n",
        "y_pred_train = lr.predict(X_train)\n",
        "y_pred_test = lr.predict(X_test)\n",
        "\n",
        "print('the train score is',r2_score(y_train,y_pred_train))\n",
        "print('the test score is',r2_score(y_test,y_pred_test))"
      ],
      "metadata": {
        "colab": {
          "base_uri": "https://localhost:8080/"
        },
        "id": "wKAvmttb1I9_",
        "outputId": "553cb4db-ce5f-4c58-9f7b-abf05d9a0409"
      },
      "execution_count": null,
      "outputs": [
        {
          "output_type": "stream",
          "name": "stdout",
          "text": [
            "the train score is 0.9447683042094392\n",
            "the test score is 0.9213956068646703\n"
          ]
        }
      ]
    },
    {
      "cell_type": "code",
      "source": [
        "# calculate the coefficients for different values of alphas\n",
        "\n",
        "alphas = [0.1,0,1,10,100,500,1000,5000]\n",
        "\n",
        "all_coef = []\n",
        "i = 1\n",
        "\n",
        "plt.figure(figsize=(15,10))\n",
        "for a in alphas:\n",
        "    new_ridge = Ridge(alpha=a)\n",
        "    new_ridge.fit(X_train,y_train)\n",
        "\n",
        "    coef = new_ridge.coef_.tolist()\n",
        "\n",
        "    plt.subplot(4,2,i)\n",
        "    plt.bar(np.arange(1,11,1),new_ridge.coef_)\n",
        "    plt.title(f'Alpha is {a}')\n",
        "    all_coef.append(coef)\n",
        "    i = i+ 1\n",
        "    plt.tight_layout()\n",
        "df_coef = pd.DataFrame(all_coef,columns=np.arange(1,11,1),index=alphas)\n"
      ],
      "metadata": {
        "colab": {
          "base_uri": "https://localhost:8080/",
          "height": 729
        },
        "id": "eGmgAj0k1P8f",
        "outputId": "351cbd78-7bc6-47ad-b580-31a90a5dcc1d"
      },
      "execution_count": null,
      "outputs": [
        {
          "output_type": "display_data",
          "data": {
            "text/plain": [
              "<Figure size 1080x720 with 8 Axes>"
            ],
            "image/png": "[encoded data removed]"
          },
          "metadata": {
            "needs_background": "light"
          }
        }
      ]
    },
    {
      "cell_type": "markdown",
      "source": [
        "The scale of the coeficients is changing and for the higher values of alpha the coefficients are reducing drastically and moving towards 0.\n",
        "\n",
        "The coefficients reducing means the slope is getting more horizontal and the line is becoming more horizontal in nature."
      ],
      "metadata": {
        "id": "D4vGAF5r6L85"
      }
    },
    {
      "cell_type": "code",
      "source": [
        "df_coef"
      ],
      "metadata": {
        "colab": {
          "base_uri": "https://localhost:8080/",
          "height": 300
        },
        "id": "rgAzyLzJ7mco",
        "outputId": "ed42d5cb-da8f-4fc3-868c-6d705e95a352"
      },
      "execution_count": null,
      "outputs": [
        {
          "output_type": "execute_result",
          "data": {
            "text/plain": [
              "               1         2          3         4         5          6   \\\n",
              "0.1     27.927043  2.222228  11.312453  3.839112  0.398666  54.413670   \n",
              "0.0     27.937149  2.224493  11.315290  3.838807  0.395993  54.428649   \n",
              "1.0     27.836406  2.201929  11.286983  3.841804  0.422590  54.279229   \n",
              "10.0    26.960234  2.006552  11.038365  3.863728  0.649448  52.970469   \n",
              "100.0   20.447452  0.631160   9.041700  3.781552  2.050902  42.676959   \n",
              "500.0    9.685090 -0.929472   5.004148  2.558705  2.784085  22.874882   \n",
              "1000.0   5.780369 -1.004949   3.210030  1.717301  2.256723  14.465140   \n",
              "5000.0   1.348655 -0.412517   0.829448  0.455925  0.748149   3.665505   \n",
              "\n",
              "               7          8         9          10  \n",
              "0.1     94.281848  11.653082  6.736096  48.437897  \n",
              "0.0     94.305699  11.654433  6.737291  48.450842  \n",
              "1.0     94.067734  11.640908  6.725360  48.321725  \n",
              "10.0    91.979880  11.518276  6.619303  47.191586  \n",
              "100.0   75.324787  10.294827  5.690671  38.334491  \n",
              "500.0   41.889675   6.632544  3.450627  21.167807  \n",
              "1000.0  26.984163   4.522827  2.308127  13.649766  \n",
              "5000.0   7.026192   1.263385  0.633679   3.574534  "
            ],
            "text/html": [
              "\n",
              "  <div id=\"df-bcc5cec6-97ea-4ef0-8f80-bf1b8830e6fd\">\n",
              "    <div class=\"colab-df-container\">\n",
              "      <div>\n",
              "<style scoped>\n",
              "    .dataframe tbody tr th:only-of-type {\n",
              "        vertical-align: middle;\n",
              "    }\n",
              "\n",
              "    .dataframe tbody tr th {\n",
              "        vertical-align: top;\n",
              "    }\n",
              "\n",
              "    .dataframe thead th {\n",
              "        text-align: right;\n",
              "    }\n",
              "</style>\n",
              "<table border=\"1\" class=\"dataframe\">\n",
              "  <thead>\n",
              "    <tr style=\"text-align: right;\">\n",
              "      <th></th>\n",
              "      <th>1</th>\n",
              "      <th>2</th>\n",
              "      <th>3</th>\n",
              "      <th>4</th>\n",
              "      <th>5</th>\n",
              "      <th>6</th>\n",
              "      <th>7</th>\n",
              "      <th>8</th>\n",
              "      <th>9</th>\n",
              "      <th>10</th>\n",
              "    </tr>\n",
              "  </thead>\n",
              "  <tbody>\n",
              "    <tr>\n",
              "      <th>0.1</th>\n",
              "      <td>27.927043</td>\n",
              "      <td>2.222228</td>\n",
              "      <td>11.312453</td>\n",
              "      <td>3.839112</td>\n",
              "      <td>0.398666</td>\n",
              "      <td>54.413670</td>\n",
              "      <td>94.281848</td>\n",
              "      <td>11.653082</td>\n",
              "      <td>6.736096</td>\n",
              "      <td>48.437897</td>\n",
              "    </tr>\n",
              "    <tr>\n",
              "      <th>0.0</th>\n",
              "      <td>27.937149</td>\n",
              "      <td>2.224493</td>\n",
              "      <td>11.315290</td>\n",
              "      <td>3.838807</td>\n",
              "      <td>0.395993</td>\n",
              "      <td>54.428649</td>\n",
              "      <td>94.305699</td>\n",
              "      <td>11.654433</td>\n",
              "      <td>6.737291</td>\n",
              "      <td>48.450842</td>\n",
              "    </tr>\n",
              "    <tr>\n",
              "      <th>1.0</th>\n",
              "      <td>27.836406</td>\n",
              "      <td>2.201929</td>\n",
              "      <td>11.286983</td>\n",
              "      <td>3.841804</td>\n",
              "      <td>0.422590</td>\n",
              "      <td>54.279229</td>\n",
              "      <td>94.067734</td>\n",
              "      <td>11.640908</td>\n",
              "      <td>6.725360</td>\n",
              "      <td>48.321725</td>\n",
              "    </tr>\n",
              "    <tr>\n",
              "      <th>10.0</th>\n",
              "      <td>26.960234</td>\n",
              "      <td>2.006552</td>\n",
              "      <td>11.038365</td>\n",
              "      <td>3.863728</td>\n",
              "      <td>0.649448</td>\n",
              "      <td>52.970469</td>\n",
              "      <td>91.979880</td>\n",
              "      <td>11.518276</td>\n",
              "      <td>6.619303</td>\n",
              "      <td>47.191586</td>\n",
              "    </tr>\n",
              "    <tr>\n",
              "      <th>100.0</th>\n",
              "      <td>20.447452</td>\n",
              "      <td>0.631160</td>\n",
              "      <td>9.041700</td>\n",
              "      <td>3.781552</td>\n",
              "      <td>2.050902</td>\n",
              "      <td>42.676959</td>\n",
              "      <td>75.324787</td>\n",
              "      <td>10.294827</td>\n",
              "      <td>5.690671</td>\n",
              "      <td>38.334491</td>\n",
              "    </tr>\n",
              "    <tr>\n",
              "      <th>500.0</th>\n",
              "      <td>9.685090</td>\n",
              "      <td>-0.929472</td>\n",
              "      <td>5.004148</td>\n",
              "      <td>2.558705</td>\n",
              "      <td>2.784085</td>\n",
              "      <td>22.874882</td>\n",
              "      <td>41.889675</td>\n",
              "      <td>6.632544</td>\n",
              "      <td>3.450627</td>\n",
              "      <td>21.167807</td>\n",
              "    </tr>\n",
              "    <tr>\n",
              "      <th>1000.0</th>\n",
              "      <td>5.780369</td>\n",
              "      <td>-1.004949</td>\n",
              "      <td>3.210030</td>\n",
              "      <td>1.717301</td>\n",
              "      <td>2.256723</td>\n",
              "      <td>14.465140</td>\n",
              "      <td>26.984163</td>\n",
              "      <td>4.522827</td>\n",
              "      <td>2.308127</td>\n",
              "      <td>13.649766</td>\n",
              "    </tr>\n",
              "    <tr>\n",
              "      <th>5000.0</th>\n",
              "      <td>1.348655</td>\n",
              "      <td>-0.412517</td>\n",
              "      <td>0.829448</td>\n",
              "      <td>0.455925</td>\n",
              "      <td>0.748149</td>\n",
              "      <td>3.665505</td>\n",
              "      <td>7.026192</td>\n",
              "      <td>1.263385</td>\n",
              "      <td>0.633679</td>\n",
              "      <td>3.574534</td>\n",
              "    </tr>\n",
              "  </tbody>\n",
              "</table>\n",
              "</div>\n",
              "      <button class=\"colab-df-convert\" onclick=\"convertToInteractive('df-bcc5cec6-97ea-4ef0-8f80-bf1b8830e6fd')\"\n",
              "              title=\"Convert this dataframe to an interactive table.\"\n",
              "              style=\"display:none;\">\n",
              "        \n",
              "  <svg xmlns=\"http://www.w3.org/2000/svg\" height=\"24px\"viewBox=\"0 0 24 24\"\n",
              "       width=\"24px\">\n",
              "    <path d=\"M0 0h24v24H0V0z\" fill=\"none\"/>\n",
              "    <path d=\"M18.56 5.44l.94 2.06.94-2.06 2.06-.94-2.06-.94-.94-2.06-.94 2.06-2.06.94zm-11 1L8.5 8.5l.94-2.06 2.06-.94-2.06-.94L8.5 2.5l-.94 2.06-2.06.94zm10 10l.94 2.06.94-2.06 2.06-.94-2.06-.94-.94-2.06-.94 2.06-2.06.94z\"/><path d=\"M17.41 7.96l-1.37-1.37c-.4-.4-.92-.59-1.43-.59-.52 0-1.04.2-1.43.59L10.3 9.45l-7.72 7.72c-.78.78-.78 2.05 0 2.83L4 21.41c.39.39.9.59 1.41.59.51 0 1.02-.2 1.41-.59l7.78-7.78 2.81-2.81c.8-.78.8-2.07 0-2.86zM5.41 20L4 18.59l7.72-7.72 1.47 1.35L5.41 20z\"/>\n",
              "  </svg>\n",
              "      </button>\n",
              "      \n",
              "  <style>\n",
              "    .colab-df-container {\n",
              "      display:flex;\n",
              "      flex-wrap:wrap;\n",
              "      gap: 12px;\n",
              "    }\n",
              "\n",
              "    .colab-df-convert {\n",
              "      background-color: #E8F0FE;\n",
              "      border: none;\n",
              "      border-radius: 50%;\n",
              "      cursor: pointer;\n",
              "      display: none;\n",
              "      fill: #1967D2;\n",
              "      height: 32px;\n",
              "      padding: 0 0 0 0;\n",
              "      width: 32px;\n",
              "    }\n",
              "\n",
              "    .colab-df-convert:hover {\n",
              "      background-color: #E2EBFA;\n",
              "      box-shadow: 0px 1px 2px rgba(60, 64, 67, 0.3), 0px 1px 3px 1px rgba(60, 64, 67, 0.15);\n",
              "      fill: #174EA6;\n",
              "    }\n",
              "\n",
              "    [theme=dark] .colab-df-convert {\n",
              "      background-color: #3B4455;\n",
              "      fill: #D2E3FC;\n",
              "    }\n",
              "\n",
              "    [theme=dark] .colab-df-convert:hover {\n",
              "      background-color: #434B5C;\n",
              "      box-shadow: 0px 1px 3px 1px rgba(0, 0, 0, 0.15);\n",
              "      filter: drop-shadow(0px 1px 2px rgba(0, 0, 0, 0.3));\n",
              "      fill: #FFFFFF;\n",
              "    }\n",
              "  </style>\n",
              "\n",
              "      <script>\n",
              "        const buttonEl =\n",
              "          document.querySelector('#df-bcc5cec6-97ea-4ef0-8f80-bf1b8830e6fd button.colab-df-convert');\n",
              "        buttonEl.style.display =\n",
              "          google.colab.kernel.accessAllowed ? 'block' : 'none';\n",
              "\n",
              "        async function convertToInteractive(key) {\n",
              "          const element = document.querySelector('#df-bcc5cec6-97ea-4ef0-8f80-bf1b8830e6fd');\n",
              "          const dataTable =\n",
              "            await google.colab.kernel.invokeFunction('convertToInteractive',\n",
              "                                                     [key], {});\n",
              "          if (!dataTable) return;\n",
              "\n",
              "          const docLinkHtml = 'Like what you see? Visit the ' +\n",
              "            '<a target=\"_blank\" href=https://colab.research.google.com/notebooks/data_table.ipynb>data table notebook</a>'\n",
              "            + ' to learn more about interactive tables.';\n",
              "          element.innerHTML = '';\n",
              "          dataTable['output_type'] = 'display_data';\n",
              "          await google.colab.output.renderOutput(dataTable, element);\n",
              "          const docLink = document.createElement('div');\n",
              "          docLink.innerHTML = docLinkHtml;\n",
              "          element.appendChild(docLink);\n",
              "        }\n",
              "      </script>\n",
              "    </div>\n",
              "  </div>\n",
              "  "
            ]
          },
          "metadata": {},
          "execution_count": 74
        }
      ]
    },
    {
      "cell_type": "code",
      "source": [
        "df_coef.plot(figsize=(12,5))\n",
        "plt.ylim(-50,100)\n",
        "plt.legend(loc='upper right')\n",
        "plt.show()"
      ],
      "metadata": {
        "colab": {
          "base_uri": "https://localhost:8080/",
          "height": 324
        },
        "id": "U0p_A2GR4Qoi",
        "outputId": "89af4b00-2641-464b-fa5b-99565b3ae77d"
      },
      "execution_count": null,
      "outputs": [
        {
          "output_type": "display_data",
          "data": {
            "text/plain": [
              "<Figure size 864x360 with 1 Axes>"
            ],
            "image/png": "[encoded data removed]"
          },
          "metadata": {
            "needs_background": "light"
          }
        }
      ]
    },
    {
      "cell_type": "markdown",
      "source": [
        "This graph shows how the larger coefficients are reducing and becoming 0 more rapidly as compared to coefficients that are already very small.\n",
        "\n",
        "- Larger coefficients are affected majorly by increasing the alpha.\n",
        "- This shows that regularization penalises steeper slopes / greater coefficients more."
      ],
      "metadata": {
        "id": "zzGbkpv37HlX"
      }
    },
    {
      "cell_type": "code",
      "source": [],
      "metadata": {
        "id": "t5tH-Odq7hjY"
      },
      "execution_count": null,
      "outputs": []
    }
  ]
}
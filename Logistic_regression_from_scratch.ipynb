{
  "nbformat": 4,
  "nbformat_minor": 0,
  "metadata": {
    "colab": {
      "provenance": [],
      "authorship_tag": "ABX9TyMNDBvY3vGBH3bNnt0VIz+A",
      "include_colab_link": true
    },
    "kernelspec": {
      "name": "python3",
      "display_name": "Python 3"
    },
    "language_info": {
      "name": "python"
    }
  },
  "cells": [
    {
      "cell_type": "markdown",
      "metadata": {
        "id": "view-in-github",
        "colab_type": "text"
      },
      "source": [
        "<a href=\"https://colab.research.google.com/github/Himanshu-1703/ML_Algorithms/blob/main/Logistic_regression_from_scratch.ipynb\" target=\"_parent\"><img src=\"https://colab.research.google.com/assets/colab-badge.svg\" alt=\"Open In Colab\"/></a>"
      ]
    },
    {
      "cell_type": "code",
      "execution_count": null,
      "metadata": {
        "id": "FGmE3KwVVwKP"
      },
      "outputs": [],
      "source": [
        "import pandas as pd\n",
        "import numpy as np\n",
        "from sklearn.datasets import make_classification\n",
        "import matplotlib.pyplot as plt"
      ]
    },
    {
      "cell_type": "code",
      "source": [
        "# make dataset\n",
        "\n",
        "X, y = make_classification(n_samples=100, n_features=2, n_informative=1,n_redundant=0,\n",
        "                           n_classes=2, n_clusters_per_class=1, random_state=41,hypercube=False,class_sep=20)"
      ],
      "metadata": {
        "id": "wFKONCMaXZ2o"
      },
      "execution_count": null,
      "outputs": []
    },
    {
      "cell_type": "markdown",
      "source": [
        "Logistic reression works good in linealy separable data."
      ],
      "metadata": {
        "id": "fmVpkppkZItd"
      }
    },
    {
      "cell_type": "code",
      "source": [
        "X[0:5]"
      ],
      "metadata": {
        "colab": {
          "base_uri": "https://localhost:8080/"
        },
        "id": "SBtD4iI0abch",
        "outputId": "3a973718-a67c-4e01-f3b0-8b21b972b9c1"
      },
      "execution_count": null,
      "outputs": [
        {
          "output_type": "execute_result",
          "data": {
            "text/plain": [
              "array([[ 0.51123145, -0.11697552],\n",
              "       [ 0.06316371, -0.73115232],\n",
              "       [-0.0425064 , -0.7081059 ],\n",
              "       [-3.2891569 , -2.01199214],\n",
              "       [ 0.1111445 ,  1.63493163]])"
            ]
          },
          "metadata": {},
          "execution_count": 41
        }
      ]
    },
    {
      "cell_type": "code",
      "source": [
        "# plot the data\n",
        "\n",
        "plt.scatter(X[:,0],X[:,1],c=y)\n",
        "plt.show()"
      ],
      "metadata": {
        "colab": {
          "base_uri": "https://localhost:8080/",
          "height": 265
        },
        "id": "bRsHRuNoX1nc",
        "outputId": "d3c48c0a-41a1-41bc-8268-882bf2ca5adc"
      },
      "execution_count": null,
      "outputs": [
        {
          "output_type": "display_data",
          "data": {
            "text/plain": [
              "<Figure size 432x288 with 1 Axes>"
            ],
            "image/png": "[encoded data removed]"
          },
          "metadata": {
            "needs_background": "light"
          }
        }
      ]
    },
    {
      "cell_type": "code",
      "source": [
        "# create weights for the data columns\n",
        "\n",
        "def create_weights(X):\n",
        "    weights = np.ones(shape=(X.shape[1]))\n",
        "    return weights"
      ],
      "metadata": {
        "id": "AxEAi4dVYHtf"
      },
      "execution_count": null,
      "outputs": []
    },
    {
      "cell_type": "code",
      "source": [
        "# create a step function\n",
        "\n",
        "def step(z):\n",
        "    return 1 if z > 0 else 0"
      ],
      "metadata": {
        "id": "hzwc5HBuZdj6"
      },
      "execution_count": null,
      "outputs": []
    },
    {
      "cell_type": "code",
      "source": [
        "def sigmoid(z):\n",
        "    return 1 / (1 + np.exp(-z))"
      ],
      "metadata": {
        "id": "1wdmQEKDZYRa"
      },
      "execution_count": null,
      "outputs": []
    },
    {
      "cell_type": "code",
      "source": [
        "def create_bias(X):\n",
        "    bias = np.ones(shape=(X.shape[0],1))\n",
        "    return np.hstack((bias,X))"
      ],
      "metadata": {
        "id": "xE_lvki3cmXH"
      },
      "execution_count": null,
      "outputs": []
    },
    {
      "cell_type": "code",
      "source": [
        "X.shape"
      ],
      "metadata": {
        "colab": {
          "base_uri": "https://localhost:8080/"
        },
        "id": "pSnFrPjmcNW_",
        "outputId": "26db21c6-e270-40c4-cd20-d597eed1383e"
      },
      "execution_count": null,
      "outputs": [
        {
          "output_type": "execute_result",
          "data": {
            "text/plain": [
              "(100, 2)"
            ]
          },
          "metadata": {},
          "execution_count": 47
        }
      ]
    },
    {
      "cell_type": "code",
      "source": [
        "X[12]"
      ],
      "metadata": {
        "colab": {
          "base_uri": "https://localhost:8080/"
        },
        "id": "c58KW5w6cFl8",
        "outputId": "3064c622-208b-4e80-a681-873c94803ef9"
      },
      "execution_count": null,
      "outputs": [
        {
          "output_type": "execute_result",
          "data": {
            "text/plain": [
              "array([ 0.29004249, -2.98092432])"
            ]
          },
          "metadata": {},
          "execution_count": 48
        }
      ]
    },
    {
      "cell_type": "code",
      "source": [
        "y[12]"
      ],
      "metadata": {
        "colab": {
          "base_uri": "https://localhost:8080/"
        },
        "id": "q_55TRvlcV6g",
        "outputId": "f754e9c9-6587-4908-c540-80b6272311a9"
      },
      "execution_count": null,
      "outputs": [
        {
          "output_type": "execute_result",
          "data": {
            "text/plain": [
              "1"
            ]
          },
          "metadata": {},
          "execution_count": 49
        }
      ]
    },
    {
      "cell_type": "code",
      "source": [
        "def perceptron(X,y,epochs,lr):\n",
        "    \n",
        "    X = create_bias(X)\n",
        "    weights = create_weights(X)\n",
        "\n",
        "    for i in range(epochs):\n",
        "        ind = np.random.randint(0,X.shape[0])\n",
        "        input_arr = X[ind,:]\n",
        "        true_y = y[ind]\n",
        "        y_pred = step(np.dot(input_arr,weights))\n",
        "\n",
        "        weights = weights + (lr * (true_y-y_pred) * input_arr)\n",
        "\n",
        "\n",
        "    return weights[0],weights[1:]"
      ],
      "metadata": {
        "id": "aEXbx095Zysq"
      },
      "execution_count": null,
      "outputs": []
    },
    {
      "cell_type": "code",
      "source": [
        "bias_percep,weights_percep = perceptron(X,y,1000,0.1)"
      ],
      "metadata": {
        "id": "oQB_jtiVZ0b-"
      },
      "execution_count": null,
      "outputs": []
    },
    {
      "cell_type": "code",
      "source": [
        "print(bias_percep)\n",
        "print(weights_percep)"
      ],
      "metadata": {
        "colab": {
          "base_uri": "https://localhost:8080/"
        },
        "id": "B5Brs6vbbw9u",
        "outputId": "06351192-33b3-4435-8eb4-15b1ea1088b8"
      },
      "execution_count": null,
      "outputs": [
        {
          "output_type": "stream",
          "name": "stdout",
          "text": [
            "1.3000000000000003\n",
            "[1.05343617 0.2221512 ]\n"
          ]
        }
      ]
    },
    {
      "cell_type": "code",
      "source": [
        "coeficient_percep = -(weights_percep[0] / weights_percep[1])\n",
        "\n",
        "intercept_percep = -(bias_percep / weights_percep[1])"
      ],
      "metadata": {
        "id": "w35inuXoe5lh"
      },
      "execution_count": null,
      "outputs": []
    },
    {
      "cell_type": "code",
      "source": [
        "coeficient_percep"
      ],
      "metadata": {
        "colab": {
          "base_uri": "https://localhost:8080/"
        },
        "id": "6UZSVH7jiUmu",
        "outputId": "2ae66a12-ec7a-4297-fd1c-eec9ce52c42e"
      },
      "execution_count": null,
      "outputs": [
        {
          "output_type": "execute_result",
          "data": {
            "text/plain": [
              "-4.741978363208182"
            ]
          },
          "metadata": {},
          "execution_count": 54
        }
      ]
    },
    {
      "cell_type": "code",
      "source": [
        "intercept_percep"
      ],
      "metadata": {
        "colab": {
          "base_uri": "https://localhost:8080/"
        },
        "id": "tgIf4HhwiVJS",
        "outputId": "7488259a-fe90-4530-f9b6-ebc88e005df1"
      },
      "execution_count": null,
      "outputs": [
        {
          "output_type": "execute_result",
          "data": {
            "text/plain": [
              "-5.851870329508209"
            ]
          },
          "metadata": {},
          "execution_count": 55
        }
      ]
    },
    {
      "cell_type": "code",
      "source": [
        "# plot the line on the graph\n",
        "\n",
        "# line = mx + c\n",
        "x_input = np.linspace(-5.5,0.5,100)\n",
        "line = (coeficient_percep * x_input) + intercept_percep"
      ],
      "metadata": {
        "id": "q-4MqfOBiWZ-"
      },
      "execution_count": null,
      "outputs": []
    },
    {
      "cell_type": "code",
      "source": [
        "# plotting\n",
        "\n",
        "plt.scatter(X[:,0],X[:,1],c=y)\n",
        "plt.plot(x_input,line)\n",
        "plt.xlim(-5,3)\n",
        "plt.ylim(-4,4)\n",
        "plt.show()"
      ],
      "metadata": {
        "colab": {
          "base_uri": "https://localhost:8080/",
          "height": 269
        },
        "id": "IcVcZlpGjCQd",
        "outputId": "e330c2c2-f141-4fd5-c362-9161c637b0b5"
      },
      "execution_count": null,
      "outputs": [
        {
          "output_type": "display_data",
          "data": {
            "text/plain": [
              "<Figure size 432x288 with 1 Axes>"
            ],
            "image/png": "[encoded data removed]"
          },
          "metadata": {
            "needs_background": "light"
          }
        }
      ]
    },
    {
      "cell_type": "code",
      "source": [
        "def get_line_percep(X,y,epochs,lr):\n",
        "    X = create_bias(X)\n",
        "    weights = create_weights(X)\n",
        "\n",
        "    for i in range(epochs):\n",
        "        ind = np.random.randint(0,X.shape[0])\n",
        "        input_arr = X[ind,:]\n",
        "        true_y = y[ind]\n",
        "        y_pred = step(np.dot(input_arr,weights))\n",
        "\n",
        "        weights = weights + (lr * (true_y-y_pred) * input_arr)\n",
        "    \n",
        "    weights = weights[1:]\n",
        "    bias  = weights[0]\n",
        "    coeficient = -(weights[0] / weights[1])\n",
        "\n",
        "    intercept = -(bias/ weights[1])\n",
        "\n",
        "    # line = mx + c\n",
        "    x_input = np.linspace(-5.5,0.5,100)\n",
        "    line = (coeficient * x_input) + intercept\n",
        "\n",
        "    return line"
      ],
      "metadata": {
        "id": "ASFQnHDZRpzH"
      },
      "execution_count": null,
      "outputs": []
    },
    {
      "cell_type": "code",
      "source": [
        "def get_line_sigmoid(X,y,epochs,lr):\n",
        "    X = create_bias(X)\n",
        "    weights = create_weights(X)\n",
        "\n",
        "    for i in range(epochs):\n",
        "        ind = np.random.randint(0,X.shape[0])\n",
        "        input_arr = X[ind,:]\n",
        "        true_y = y[ind]\n",
        "        y_pred = sigmoid(np.dot(input_arr,weights))\n",
        "\n",
        "        weights = weights + (lr * (true_y-y_pred) * input_arr)\n",
        "    \n",
        "    weights = weights[1:]\n",
        "    bias  = weights[0]\n",
        "    coeficient = -(weights[0] / weights[1])\n",
        "\n",
        "    intercept = -(bias/ weights[1])\n",
        "\n",
        "    # line = mx + c\n",
        "    x_input = np.linspace(-5.5,0.5,100)\n",
        "    line = (coeficient * x_input) + intercept\n",
        "\n",
        "    return line"
      ],
      "metadata": {
        "id": "aVAFZnZTaUPW"
      },
      "execution_count": null,
      "outputs": []
    },
    {
      "cell_type": "code",
      "source": [
        "def get_line_gd(X,y,epochs,lr):\n",
        "    X = create_bias(X)\n",
        "    weights = create_weights(X)\n",
        "\n",
        "    for i in range(epochs):\n",
        "        ind = np.random.randint(0,X.shape[0])\n",
        "        input_arr = X[ind,:]\n",
        "        true_y = y[ind]\n",
        "        y_pred = sigmoid(np.dot(input_arr,weights))\n",
        "\n",
        "        weights = weights + (lr * np.dot((true_y-y_pred),input_arr)/input_arr.shape[0])\n",
        "    \n",
        "    weights = weights[1:]\n",
        "    bias  = weights[0]\n",
        "    coeficient = -(weights[0] / weights[1])\n",
        "\n",
        "    intercept = -(bias/ weights[1])\n",
        "\n",
        "    # line = mx + c\n",
        "    x_input = np.linspace(-5.5,0.5,100)\n",
        "    line = (coeficient * x_input) + intercept\n",
        "\n",
        "    return line"
      ],
      "metadata": {
        "id": "W0vqEnM6aWwR"
      },
      "execution_count": null,
      "outputs": []
    },
    {
      "cell_type": "code",
      "source": [
        "line_perceptron = get_line_percep(X,y,5000,0.5)\n",
        "\n",
        "line_sigmoid = get_line_sigmoid(X,y,3000,0.1)\n",
        "\n",
        "line_gd  = get_line_gd(X,y,5000,0.5)"
      ],
      "metadata": {
        "id": "vgpsgCQXbGoi"
      },
      "execution_count": null,
      "outputs": []
    },
    {
      "cell_type": "code",
      "source": [
        "# plot the graphs\n",
        "\n",
        "plt.scatter(X[:,0],X[:,1],c=y)\n",
        "plt.plot(x_input,line_perceptron,color='red')\n",
        "plt.plot(x_input,line_sigmoid,color='green')\n",
        "plt.plot(x_input,line_gd,color='blue')\n",
        "plt.xlim(-5,3)\n",
        "plt.ylim(-4,4)\n",
        "plt.show()"
      ],
      "metadata": {
        "colab": {
          "base_uri": "https://localhost:8080/",
          "height": 269
        },
        "id": "ZsbenYTabd3w",
        "outputId": "2e965e70-bec1-418c-d75f-21ebd089e066"
      },
      "execution_count": null,
      "outputs": [
        {
          "output_type": "display_data",
          "data": {
            "text/plain": [
              "<Figure size 432x288 with 1 Axes>"
            ],
            "image/png": "[encoded data removed]"
          },
          "metadata": {
            "needs_background": "light"
          }
        }
      ]
    },
    {
      "cell_type": "code",
      "source": [
        "# get the line for logistic regression\n",
        "\n",
        "from sklearn.linear_model import LogisticRegression\n",
        "\n",
        "lr = LogisticRegression(solver='sag',penalty=None,max_iter=5000)\n",
        "\n",
        "lr.fit(X,y)\n",
        "\n",
        "\n",
        "\n",
        "y_pred_logit = lr.predict(X)\n"
      ],
      "metadata": {
        "id": "U5KVdYlObw1V"
      },
      "execution_count": null,
      "outputs": []
    },
    {
      "cell_type": "code",
      "source": [
        "# coef and intercept for logistic\n",
        "\n",
        "m = -lr.coef_[0][0] / lr.coef_[0][1]\n",
        "c = - lr.intercept_ / lr.coef_[0][1]"
      ],
      "metadata": {
        "id": "clWS-JR2ch_r"
      },
      "execution_count": null,
      "outputs": []
    },
    {
      "cell_type": "code",
      "source": [
        "# make line for logistic regression\n",
        "\n",
        "line_logistic = (m * x_input) + c"
      ],
      "metadata": {
        "id": "VKiAwlUhcXlI"
      },
      "execution_count": null,
      "outputs": []
    },
    {
      "cell_type": "code",
      "source": [
        "# plot the graphs\n",
        "\n",
        "plt.scatter(X[:,0],X[:,1],c=y)\n",
        "plt.plot(x_input,line_logistic,color='red')\n",
        "plt.plot(x_input,line_gd,color='blue')\n",
        "plt.xlim(-5,3)\n",
        "plt.ylim(-4,4)\n",
        "plt.show()\n"
      ],
      "metadata": {
        "colab": {
          "base_uri": "https://localhost:8080/",
          "height": 269
        },
        "id": "msf8itVRdGYM",
        "outputId": "c6d34d3c-f8a9-4e48-972e-0098a2b79d75"
      },
      "execution_count": null,
      "outputs": [
        {
          "output_type": "display_data",
          "data": {
            "text/plain": [
              "<Figure size 432x288 with 1 Axes>"
            ],
            "image/png": "[encoded data removed]"
          },
          "metadata": {
            "needs_background": "light"
          }
        }
      ]
    },
    {
      "cell_type": "code",
      "source": [],
      "metadata": {
        "id": "pOiWw5BkdaA8"
      },
      "execution_count": null,
      "outputs": []
    }
  ]
}